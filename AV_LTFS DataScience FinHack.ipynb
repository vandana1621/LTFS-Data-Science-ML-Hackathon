{
 "cells": [
  {
   "cell_type": "code",
   "execution_count": 1,
   "metadata": {},
   "outputs": [],
   "source": [
    "import pandas as pd\n",
    "import numpy as np\n",
    "import seaborn as sns\n",
    "import matplotlib.pyplot as plt\n",
    "import seaborn as sns\n",
    "from sklearn.model_selection import train_test_split\n",
    "from sklearn.model_selection import GridSearchCV, RandomizedSearchCV\n",
    "from sklearn.linear_model import LogisticRegression\n",
    "from sklearn.tree import DecisionTreeClassifier\n",
    "from sklearn.ensemble import RandomForestClassifier\n",
    "from sklearn.ensemble import AdaBoostClassifier\n",
    "from sklearn.feature_selection import SelectKBest\n",
    "from sklearn.feature_selection import f_classif\n",
    "from sklearn import metrics\n",
    "import warnings\n",
    "warnings.filterwarnings('ignore')"
   ]
  },
  {
   "cell_type": "code",
   "execution_count": 2,
   "metadata": {},
   "outputs": [
    {
     "data": {
      "text/html": [
       "<div>\n",
       "<style scoped>\n",
       "    .dataframe tbody tr th:only-of-type {\n",
       "        vertical-align: middle;\n",
       "    }\n",
       "\n",
       "    .dataframe tbody tr th {\n",
       "        vertical-align: top;\n",
       "    }\n",
       "\n",
       "    .dataframe thead th {\n",
       "        text-align: right;\n",
       "    }\n",
       "</style>\n",
       "<table border=\"1\" class=\"dataframe\">\n",
       "  <thead>\n",
       "    <tr style=\"text-align: right;\">\n",
       "      <th></th>\n",
       "      <th>disbursed_amount</th>\n",
       "      <th>asset_cost</th>\n",
       "      <th>ltv</th>\n",
       "      <th>branch_id</th>\n",
       "      <th>supplier_id</th>\n",
       "      <th>manufacturer_id</th>\n",
       "      <th>Current_pincode_ID</th>\n",
       "      <th>Date.of.Birth</th>\n",
       "      <th>Employment.Type</th>\n",
       "      <th>DisbursalDate</th>\n",
       "      <th>...</th>\n",
       "      <th>SEC.SANCTIONED.AMOUNT</th>\n",
       "      <th>SEC.DISBURSED.AMOUNT</th>\n",
       "      <th>PRIMARY.INSTAL.AMT</th>\n",
       "      <th>SEC.INSTAL.AMT</th>\n",
       "      <th>NEW.ACCTS.IN.LAST.SIX.MONTHS</th>\n",
       "      <th>DELINQUENT.ACCTS.IN.LAST.SIX.MONTHS</th>\n",
       "      <th>AVERAGE.ACCT.AGE</th>\n",
       "      <th>CREDIT.HISTORY.LENGTH</th>\n",
       "      <th>NO.OF_INQUIRIES</th>\n",
       "      <th>loan_default</th>\n",
       "    </tr>\n",
       "    <tr>\n",
       "      <th>UniqueID</th>\n",
       "      <th></th>\n",
       "      <th></th>\n",
       "      <th></th>\n",
       "      <th></th>\n",
       "      <th></th>\n",
       "      <th></th>\n",
       "      <th></th>\n",
       "      <th></th>\n",
       "      <th></th>\n",
       "      <th></th>\n",
       "      <th></th>\n",
       "      <th></th>\n",
       "      <th></th>\n",
       "      <th></th>\n",
       "      <th></th>\n",
       "      <th></th>\n",
       "      <th></th>\n",
       "      <th></th>\n",
       "      <th></th>\n",
       "      <th></th>\n",
       "      <th></th>\n",
       "    </tr>\n",
       "  </thead>\n",
       "  <tbody>\n",
       "    <tr>\n",
       "      <th>420825</th>\n",
       "      <td>50578</td>\n",
       "      <td>58400</td>\n",
       "      <td>89.55</td>\n",
       "      <td>67</td>\n",
       "      <td>22807</td>\n",
       "      <td>45</td>\n",
       "      <td>1441</td>\n",
       "      <td>01-01-84</td>\n",
       "      <td>Salaried</td>\n",
       "      <td>03-08-18</td>\n",
       "      <td>...</td>\n",
       "      <td>0</td>\n",
       "      <td>0</td>\n",
       "      <td>0</td>\n",
       "      <td>0</td>\n",
       "      <td>0</td>\n",
       "      <td>0</td>\n",
       "      <td>0yrs 0mon</td>\n",
       "      <td>0yrs 0mon</td>\n",
       "      <td>0</td>\n",
       "      <td>0</td>\n",
       "    </tr>\n",
       "    <tr>\n",
       "      <th>537409</th>\n",
       "      <td>47145</td>\n",
       "      <td>65550</td>\n",
       "      <td>73.23</td>\n",
       "      <td>67</td>\n",
       "      <td>22807</td>\n",
       "      <td>45</td>\n",
       "      <td>1502</td>\n",
       "      <td>31-07-85</td>\n",
       "      <td>Self employed</td>\n",
       "      <td>26-09-18</td>\n",
       "      <td>...</td>\n",
       "      <td>0</td>\n",
       "      <td>0</td>\n",
       "      <td>1991</td>\n",
       "      <td>0</td>\n",
       "      <td>0</td>\n",
       "      <td>1</td>\n",
       "      <td>1yrs 11mon</td>\n",
       "      <td>1yrs 11mon</td>\n",
       "      <td>0</td>\n",
       "      <td>1</td>\n",
       "    </tr>\n",
       "    <tr>\n",
       "      <th>417566</th>\n",
       "      <td>53278</td>\n",
       "      <td>61360</td>\n",
       "      <td>89.63</td>\n",
       "      <td>67</td>\n",
       "      <td>22807</td>\n",
       "      <td>45</td>\n",
       "      <td>1497</td>\n",
       "      <td>24-08-85</td>\n",
       "      <td>Self employed</td>\n",
       "      <td>01-08-18</td>\n",
       "      <td>...</td>\n",
       "      <td>0</td>\n",
       "      <td>0</td>\n",
       "      <td>0</td>\n",
       "      <td>0</td>\n",
       "      <td>0</td>\n",
       "      <td>0</td>\n",
       "      <td>0yrs 0mon</td>\n",
       "      <td>0yrs 0mon</td>\n",
       "      <td>0</td>\n",
       "      <td>0</td>\n",
       "    </tr>\n",
       "    <tr>\n",
       "      <th>624493</th>\n",
       "      <td>57513</td>\n",
       "      <td>66113</td>\n",
       "      <td>88.48</td>\n",
       "      <td>67</td>\n",
       "      <td>22807</td>\n",
       "      <td>45</td>\n",
       "      <td>1501</td>\n",
       "      <td>30-12-93</td>\n",
       "      <td>Self employed</td>\n",
       "      <td>26-10-18</td>\n",
       "      <td>...</td>\n",
       "      <td>0</td>\n",
       "      <td>0</td>\n",
       "      <td>31</td>\n",
       "      <td>0</td>\n",
       "      <td>0</td>\n",
       "      <td>0</td>\n",
       "      <td>0yrs 8mon</td>\n",
       "      <td>1yrs 3mon</td>\n",
       "      <td>1</td>\n",
       "      <td>1</td>\n",
       "    </tr>\n",
       "    <tr>\n",
       "      <th>539055</th>\n",
       "      <td>52378</td>\n",
       "      <td>60300</td>\n",
       "      <td>88.39</td>\n",
       "      <td>67</td>\n",
       "      <td>22807</td>\n",
       "      <td>45</td>\n",
       "      <td>1495</td>\n",
       "      <td>09-12-77</td>\n",
       "      <td>Self employed</td>\n",
       "      <td>26-09-18</td>\n",
       "      <td>...</td>\n",
       "      <td>0</td>\n",
       "      <td>0</td>\n",
       "      <td>0</td>\n",
       "      <td>0</td>\n",
       "      <td>0</td>\n",
       "      <td>0</td>\n",
       "      <td>0yrs 0mon</td>\n",
       "      <td>0yrs 0mon</td>\n",
       "      <td>1</td>\n",
       "      <td>1</td>\n",
       "    </tr>\n",
       "  </tbody>\n",
       "</table>\n",
       "<p>5 rows × 40 columns</p>\n",
       "</div>"
      ],
      "text/plain": [
       "          disbursed_amount  asset_cost    ltv  branch_id  supplier_id  \\\n",
       "UniqueID                                                                \n",
       "420825               50578       58400  89.55         67        22807   \n",
       "537409               47145       65550  73.23         67        22807   \n",
       "417566               53278       61360  89.63         67        22807   \n",
       "624493               57513       66113  88.48         67        22807   \n",
       "539055               52378       60300  88.39         67        22807   \n",
       "\n",
       "          manufacturer_id  Current_pincode_ID Date.of.Birth Employment.Type  \\\n",
       "UniqueID                                                                      \n",
       "420825                 45                1441      01-01-84        Salaried   \n",
       "537409                 45                1502      31-07-85   Self employed   \n",
       "417566                 45                1497      24-08-85   Self employed   \n",
       "624493                 45                1501      30-12-93   Self employed   \n",
       "539055                 45                1495      09-12-77   Self employed   \n",
       "\n",
       "         DisbursalDate  ...  SEC.SANCTIONED.AMOUNT  SEC.DISBURSED.AMOUNT  \\\n",
       "UniqueID                ...                                                \n",
       "420825        03-08-18  ...                      0                     0   \n",
       "537409        26-09-18  ...                      0                     0   \n",
       "417566        01-08-18  ...                      0                     0   \n",
       "624493        26-10-18  ...                      0                     0   \n",
       "539055        26-09-18  ...                      0                     0   \n",
       "\n",
       "          PRIMARY.INSTAL.AMT  SEC.INSTAL.AMT  NEW.ACCTS.IN.LAST.SIX.MONTHS  \\\n",
       "UniqueID                                                                     \n",
       "420825                     0               0                             0   \n",
       "537409                  1991               0                             0   \n",
       "417566                     0               0                             0   \n",
       "624493                    31               0                             0   \n",
       "539055                     0               0                             0   \n",
       "\n",
       "          DELINQUENT.ACCTS.IN.LAST.SIX.MONTHS  AVERAGE.ACCT.AGE  \\\n",
       "UniqueID                                                          \n",
       "420825                                      0         0yrs 0mon   \n",
       "537409                                      1        1yrs 11mon   \n",
       "417566                                      0         0yrs 0mon   \n",
       "624493                                      0         0yrs 8mon   \n",
       "539055                                      0         0yrs 0mon   \n",
       "\n",
       "          CREDIT.HISTORY.LENGTH  NO.OF_INQUIRIES loan_default  \n",
       "UniqueID                                                       \n",
       "420825                0yrs 0mon                0            0  \n",
       "537409               1yrs 11mon                0            1  \n",
       "417566                0yrs 0mon                0            0  \n",
       "624493                1yrs 3mon                1            1  \n",
       "539055                0yrs 0mon                1            1  \n",
       "\n",
       "[5 rows x 40 columns]"
      ]
     },
     "execution_count": 2,
     "metadata": {},
     "output_type": "execute_result"
    }
   ],
   "source": [
    "test = pd.read_csv(\"./data_AV_LTFS DataScience FinHack/test.csv\", index_col = 0)\n",
    "data = pd.read_csv(\"./data_AV_LTFS DataScience FinHack/train.csv\", index_col = 0)\n",
    "data.head()"
   ]
  },
  {
   "cell_type": "code",
   "execution_count": 3,
   "metadata": {},
   "outputs": [
    {
     "data": {
      "text/html": [
       "<div>\n",
       "<style scoped>\n",
       "    .dataframe tbody tr th:only-of-type {\n",
       "        vertical-align: middle;\n",
       "    }\n",
       "\n",
       "    .dataframe tbody tr th {\n",
       "        vertical-align: top;\n",
       "    }\n",
       "\n",
       "    .dataframe thead th {\n",
       "        text-align: right;\n",
       "    }\n",
       "</style>\n",
       "<table border=\"1\" class=\"dataframe\">\n",
       "  <thead>\n",
       "    <tr style=\"text-align: right;\">\n",
       "      <th></th>\n",
       "      <th>disbursed_amount</th>\n",
       "      <th>asset_cost</th>\n",
       "      <th>ltv</th>\n",
       "      <th>branch_id</th>\n",
       "      <th>supplier_id</th>\n",
       "      <th>manufacturer_id</th>\n",
       "      <th>Current_pincode_ID</th>\n",
       "      <th>State_ID</th>\n",
       "      <th>Employee_code_ID</th>\n",
       "      <th>MobileNo_Avl_Flag</th>\n",
       "      <th>...</th>\n",
       "      <th>SEC.OVERDUE.ACCTS</th>\n",
       "      <th>SEC.CURRENT.BALANCE</th>\n",
       "      <th>SEC.SANCTIONED.AMOUNT</th>\n",
       "      <th>SEC.DISBURSED.AMOUNT</th>\n",
       "      <th>PRIMARY.INSTAL.AMT</th>\n",
       "      <th>SEC.INSTAL.AMT</th>\n",
       "      <th>NEW.ACCTS.IN.LAST.SIX.MONTHS</th>\n",
       "      <th>DELINQUENT.ACCTS.IN.LAST.SIX.MONTHS</th>\n",
       "      <th>NO.OF_INQUIRIES</th>\n",
       "      <th>loan_default</th>\n",
       "    </tr>\n",
       "  </thead>\n",
       "  <tbody>\n",
       "    <tr>\n",
       "      <th>count</th>\n",
       "      <td>233154.000000</td>\n",
       "      <td>2.331540e+05</td>\n",
       "      <td>233154.000000</td>\n",
       "      <td>233154.000000</td>\n",
       "      <td>233154.000000</td>\n",
       "      <td>233154.000000</td>\n",
       "      <td>233154.000000</td>\n",
       "      <td>233154.000000</td>\n",
       "      <td>233154.000000</td>\n",
       "      <td>233154.0</td>\n",
       "      <td>...</td>\n",
       "      <td>233154.000000</td>\n",
       "      <td>2.331540e+05</td>\n",
       "      <td>2.331540e+05</td>\n",
       "      <td>2.331540e+05</td>\n",
       "      <td>2.331540e+05</td>\n",
       "      <td>2.331540e+05</td>\n",
       "      <td>233154.000000</td>\n",
       "      <td>233154.000000</td>\n",
       "      <td>233154.000000</td>\n",
       "      <td>233154.000000</td>\n",
       "    </tr>\n",
       "    <tr>\n",
       "      <th>mean</th>\n",
       "      <td>54356.993528</td>\n",
       "      <td>7.586507e+04</td>\n",
       "      <td>74.746530</td>\n",
       "      <td>72.936094</td>\n",
       "      <td>19638.635035</td>\n",
       "      <td>69.028054</td>\n",
       "      <td>3396.880247</td>\n",
       "      <td>7.262243</td>\n",
       "      <td>1549.477148</td>\n",
       "      <td>1.0</td>\n",
       "      <td>...</td>\n",
       "      <td>0.007244</td>\n",
       "      <td>5.427793e+03</td>\n",
       "      <td>7.295923e+03</td>\n",
       "      <td>7.179998e+03</td>\n",
       "      <td>1.310548e+04</td>\n",
       "      <td>3.232684e+02</td>\n",
       "      <td>0.381833</td>\n",
       "      <td>0.097481</td>\n",
       "      <td>0.206615</td>\n",
       "      <td>0.217071</td>\n",
       "    </tr>\n",
       "    <tr>\n",
       "      <th>std</th>\n",
       "      <td>12971.314171</td>\n",
       "      <td>1.894478e+04</td>\n",
       "      <td>11.456636</td>\n",
       "      <td>69.834995</td>\n",
       "      <td>3491.949566</td>\n",
       "      <td>22.141304</td>\n",
       "      <td>2238.147502</td>\n",
       "      <td>4.482230</td>\n",
       "      <td>975.261278</td>\n",
       "      <td>0.0</td>\n",
       "      <td>...</td>\n",
       "      <td>0.111079</td>\n",
       "      <td>1.702370e+05</td>\n",
       "      <td>1.831560e+05</td>\n",
       "      <td>1.825925e+05</td>\n",
       "      <td>1.513679e+05</td>\n",
       "      <td>1.555369e+04</td>\n",
       "      <td>0.955107</td>\n",
       "      <td>0.384439</td>\n",
       "      <td>0.706498</td>\n",
       "      <td>0.412252</td>\n",
       "    </tr>\n",
       "    <tr>\n",
       "      <th>min</th>\n",
       "      <td>13320.000000</td>\n",
       "      <td>3.700000e+04</td>\n",
       "      <td>10.030000</td>\n",
       "      <td>1.000000</td>\n",
       "      <td>10524.000000</td>\n",
       "      <td>45.000000</td>\n",
       "      <td>1.000000</td>\n",
       "      <td>1.000000</td>\n",
       "      <td>1.000000</td>\n",
       "      <td>1.0</td>\n",
       "      <td>...</td>\n",
       "      <td>0.000000</td>\n",
       "      <td>-5.746470e+05</td>\n",
       "      <td>0.000000e+00</td>\n",
       "      <td>0.000000e+00</td>\n",
       "      <td>0.000000e+00</td>\n",
       "      <td>0.000000e+00</td>\n",
       "      <td>0.000000</td>\n",
       "      <td>0.000000</td>\n",
       "      <td>0.000000</td>\n",
       "      <td>0.000000</td>\n",
       "    </tr>\n",
       "    <tr>\n",
       "      <th>25%</th>\n",
       "      <td>47145.000000</td>\n",
       "      <td>6.571700e+04</td>\n",
       "      <td>68.880000</td>\n",
       "      <td>14.000000</td>\n",
       "      <td>16535.000000</td>\n",
       "      <td>48.000000</td>\n",
       "      <td>1511.000000</td>\n",
       "      <td>4.000000</td>\n",
       "      <td>713.000000</td>\n",
       "      <td>1.0</td>\n",
       "      <td>...</td>\n",
       "      <td>0.000000</td>\n",
       "      <td>0.000000e+00</td>\n",
       "      <td>0.000000e+00</td>\n",
       "      <td>0.000000e+00</td>\n",
       "      <td>0.000000e+00</td>\n",
       "      <td>0.000000e+00</td>\n",
       "      <td>0.000000</td>\n",
       "      <td>0.000000</td>\n",
       "      <td>0.000000</td>\n",
       "      <td>0.000000</td>\n",
       "    </tr>\n",
       "    <tr>\n",
       "      <th>50%</th>\n",
       "      <td>53803.000000</td>\n",
       "      <td>7.094600e+04</td>\n",
       "      <td>76.800000</td>\n",
       "      <td>61.000000</td>\n",
       "      <td>20333.000000</td>\n",
       "      <td>86.000000</td>\n",
       "      <td>2970.000000</td>\n",
       "      <td>6.000000</td>\n",
       "      <td>1451.000000</td>\n",
       "      <td>1.0</td>\n",
       "      <td>...</td>\n",
       "      <td>0.000000</td>\n",
       "      <td>0.000000e+00</td>\n",
       "      <td>0.000000e+00</td>\n",
       "      <td>0.000000e+00</td>\n",
       "      <td>0.000000e+00</td>\n",
       "      <td>0.000000e+00</td>\n",
       "      <td>0.000000</td>\n",
       "      <td>0.000000</td>\n",
       "      <td>0.000000</td>\n",
       "      <td>0.000000</td>\n",
       "    </tr>\n",
       "    <tr>\n",
       "      <th>75%</th>\n",
       "      <td>60413.000000</td>\n",
       "      <td>7.920175e+04</td>\n",
       "      <td>83.670000</td>\n",
       "      <td>130.000000</td>\n",
       "      <td>23000.000000</td>\n",
       "      <td>86.000000</td>\n",
       "      <td>5677.000000</td>\n",
       "      <td>10.000000</td>\n",
       "      <td>2362.000000</td>\n",
       "      <td>1.0</td>\n",
       "      <td>...</td>\n",
       "      <td>0.000000</td>\n",
       "      <td>0.000000e+00</td>\n",
       "      <td>0.000000e+00</td>\n",
       "      <td>0.000000e+00</td>\n",
       "      <td>1.999000e+03</td>\n",
       "      <td>0.000000e+00</td>\n",
       "      <td>0.000000</td>\n",
       "      <td>0.000000</td>\n",
       "      <td>0.000000</td>\n",
       "      <td>0.000000</td>\n",
       "    </tr>\n",
       "    <tr>\n",
       "      <th>max</th>\n",
       "      <td>990572.000000</td>\n",
       "      <td>1.628992e+06</td>\n",
       "      <td>95.000000</td>\n",
       "      <td>261.000000</td>\n",
       "      <td>24803.000000</td>\n",
       "      <td>156.000000</td>\n",
       "      <td>7345.000000</td>\n",
       "      <td>22.000000</td>\n",
       "      <td>3795.000000</td>\n",
       "      <td>1.0</td>\n",
       "      <td>...</td>\n",
       "      <td>8.000000</td>\n",
       "      <td>3.603285e+07</td>\n",
       "      <td>3.000000e+07</td>\n",
       "      <td>3.000000e+07</td>\n",
       "      <td>2.564281e+07</td>\n",
       "      <td>4.170901e+06</td>\n",
       "      <td>35.000000</td>\n",
       "      <td>20.000000</td>\n",
       "      <td>36.000000</td>\n",
       "      <td>1.000000</td>\n",
       "    </tr>\n",
       "  </tbody>\n",
       "</table>\n",
       "<p>8 rows × 34 columns</p>\n",
       "</div>"
      ],
      "text/plain": [
       "       disbursed_amount    asset_cost            ltv      branch_id  \\\n",
       "count     233154.000000  2.331540e+05  233154.000000  233154.000000   \n",
       "mean       54356.993528  7.586507e+04      74.746530      72.936094   \n",
       "std        12971.314171  1.894478e+04      11.456636      69.834995   \n",
       "min        13320.000000  3.700000e+04      10.030000       1.000000   \n",
       "25%        47145.000000  6.571700e+04      68.880000      14.000000   \n",
       "50%        53803.000000  7.094600e+04      76.800000      61.000000   \n",
       "75%        60413.000000  7.920175e+04      83.670000     130.000000   \n",
       "max       990572.000000  1.628992e+06      95.000000     261.000000   \n",
       "\n",
       "         supplier_id  manufacturer_id  Current_pincode_ID       State_ID  \\\n",
       "count  233154.000000    233154.000000       233154.000000  233154.000000   \n",
       "mean    19638.635035        69.028054         3396.880247       7.262243   \n",
       "std      3491.949566        22.141304         2238.147502       4.482230   \n",
       "min     10524.000000        45.000000            1.000000       1.000000   \n",
       "25%     16535.000000        48.000000         1511.000000       4.000000   \n",
       "50%     20333.000000        86.000000         2970.000000       6.000000   \n",
       "75%     23000.000000        86.000000         5677.000000      10.000000   \n",
       "max     24803.000000       156.000000         7345.000000      22.000000   \n",
       "\n",
       "       Employee_code_ID  MobileNo_Avl_Flag  ...  SEC.OVERDUE.ACCTS  \\\n",
       "count     233154.000000           233154.0  ...      233154.000000   \n",
       "mean        1549.477148                1.0  ...           0.007244   \n",
       "std          975.261278                0.0  ...           0.111079   \n",
       "min            1.000000                1.0  ...           0.000000   \n",
       "25%          713.000000                1.0  ...           0.000000   \n",
       "50%         1451.000000                1.0  ...           0.000000   \n",
       "75%         2362.000000                1.0  ...           0.000000   \n",
       "max         3795.000000                1.0  ...           8.000000   \n",
       "\n",
       "       SEC.CURRENT.BALANCE  SEC.SANCTIONED.AMOUNT  SEC.DISBURSED.AMOUNT  \\\n",
       "count         2.331540e+05           2.331540e+05          2.331540e+05   \n",
       "mean          5.427793e+03           7.295923e+03          7.179998e+03   \n",
       "std           1.702370e+05           1.831560e+05          1.825925e+05   \n",
       "min          -5.746470e+05           0.000000e+00          0.000000e+00   \n",
       "25%           0.000000e+00           0.000000e+00          0.000000e+00   \n",
       "50%           0.000000e+00           0.000000e+00          0.000000e+00   \n",
       "75%           0.000000e+00           0.000000e+00          0.000000e+00   \n",
       "max           3.603285e+07           3.000000e+07          3.000000e+07   \n",
       "\n",
       "       PRIMARY.INSTAL.AMT  SEC.INSTAL.AMT  NEW.ACCTS.IN.LAST.SIX.MONTHS  \\\n",
       "count        2.331540e+05    2.331540e+05                 233154.000000   \n",
       "mean         1.310548e+04    3.232684e+02                      0.381833   \n",
       "std          1.513679e+05    1.555369e+04                      0.955107   \n",
       "min          0.000000e+00    0.000000e+00                      0.000000   \n",
       "25%          0.000000e+00    0.000000e+00                      0.000000   \n",
       "50%          0.000000e+00    0.000000e+00                      0.000000   \n",
       "75%          1.999000e+03    0.000000e+00                      0.000000   \n",
       "max          2.564281e+07    4.170901e+06                     35.000000   \n",
       "\n",
       "       DELINQUENT.ACCTS.IN.LAST.SIX.MONTHS  NO.OF_INQUIRIES   loan_default  \n",
       "count                        233154.000000    233154.000000  233154.000000  \n",
       "mean                              0.097481         0.206615       0.217071  \n",
       "std                               0.384439         0.706498       0.412252  \n",
       "min                               0.000000         0.000000       0.000000  \n",
       "25%                               0.000000         0.000000       0.000000  \n",
       "50%                               0.000000         0.000000       0.000000  \n",
       "75%                               0.000000         0.000000       0.000000  \n",
       "max                              20.000000        36.000000       1.000000  \n",
       "\n",
       "[8 rows x 34 columns]"
      ]
     },
     "execution_count": 3,
     "metadata": {},
     "output_type": "execute_result"
    }
   ],
   "source": [
    "data.describe()"
   ]
  },
  {
   "cell_type": "code",
   "execution_count": 4,
   "metadata": {},
   "outputs": [
    {
     "name": "stdout",
     "output_type": "stream",
     "text": [
      "<class 'pandas.core.frame.DataFrame'>\n",
      "Int64Index: 233154 entries, 420825 to 630213\n",
      "Data columns (total 40 columns):\n",
      "disbursed_amount                       233154 non-null int64\n",
      "asset_cost                             233154 non-null int64\n",
      "ltv                                    233154 non-null float64\n",
      "branch_id                              233154 non-null int64\n",
      "supplier_id                            233154 non-null int64\n",
      "manufacturer_id                        233154 non-null int64\n",
      "Current_pincode_ID                     233154 non-null int64\n",
      "Date.of.Birth                          233154 non-null object\n",
      "Employment.Type                        225493 non-null object\n",
      "DisbursalDate                          233154 non-null object\n",
      "State_ID                               233154 non-null int64\n",
      "Employee_code_ID                       233154 non-null int64\n",
      "MobileNo_Avl_Flag                      233154 non-null int64\n",
      "Aadhar_flag                            233154 non-null int64\n",
      "PAN_flag                               233154 non-null int64\n",
      "VoterID_flag                           233154 non-null int64\n",
      "Driving_flag                           233154 non-null int64\n",
      "Passport_flag                          233154 non-null int64\n",
      "PERFORM_CNS.SCORE                      233154 non-null int64\n",
      "PERFORM_CNS.SCORE.DESCRIPTION          233154 non-null object\n",
      "PRI.NO.OF.ACCTS                        233154 non-null int64\n",
      "PRI.ACTIVE.ACCTS                       233154 non-null int64\n",
      "PRI.OVERDUE.ACCTS                      233154 non-null int64\n",
      "PRI.CURRENT.BALANCE                    233154 non-null int64\n",
      "PRI.SANCTIONED.AMOUNT                  233154 non-null int64\n",
      "PRI.DISBURSED.AMOUNT                   233154 non-null int64\n",
      "SEC.NO.OF.ACCTS                        233154 non-null int64\n",
      "SEC.ACTIVE.ACCTS                       233154 non-null int64\n",
      "SEC.OVERDUE.ACCTS                      233154 non-null int64\n",
      "SEC.CURRENT.BALANCE                    233154 non-null int64\n",
      "SEC.SANCTIONED.AMOUNT                  233154 non-null int64\n",
      "SEC.DISBURSED.AMOUNT                   233154 non-null int64\n",
      "PRIMARY.INSTAL.AMT                     233154 non-null int64\n",
      "SEC.INSTAL.AMT                         233154 non-null int64\n",
      "NEW.ACCTS.IN.LAST.SIX.MONTHS           233154 non-null int64\n",
      "DELINQUENT.ACCTS.IN.LAST.SIX.MONTHS    233154 non-null int64\n",
      "AVERAGE.ACCT.AGE                       233154 non-null object\n",
      "CREDIT.HISTORY.LENGTH                  233154 non-null object\n",
      "NO.OF_INQUIRIES                        233154 non-null int64\n",
      "loan_default                           233154 non-null int64\n",
      "dtypes: float64(1), int64(33), object(6)\n",
      "memory usage: 72.9+ MB\n"
     ]
    }
   ],
   "source": [
    "data.info()"
   ]
  },
  {
   "cell_type": "code",
   "execution_count": 5,
   "metadata": {},
   "outputs": [
    {
     "data": {
      "text/plain": [
       "disbursed_amount                          0\n",
       "asset_cost                                0\n",
       "ltv                                       0\n",
       "branch_id                                 0\n",
       "supplier_id                               0\n",
       "manufacturer_id                           0\n",
       "Current_pincode_ID                        0\n",
       "Date.of.Birth                             0\n",
       "Employment.Type                        7661\n",
       "DisbursalDate                             0\n",
       "State_ID                                  0\n",
       "Employee_code_ID                          0\n",
       "MobileNo_Avl_Flag                         0\n",
       "Aadhar_flag                               0\n",
       "PAN_flag                                  0\n",
       "VoterID_flag                              0\n",
       "Driving_flag                              0\n",
       "Passport_flag                             0\n",
       "PERFORM_CNS.SCORE                         0\n",
       "PERFORM_CNS.SCORE.DESCRIPTION             0\n",
       "PRI.NO.OF.ACCTS                           0\n",
       "PRI.ACTIVE.ACCTS                          0\n",
       "PRI.OVERDUE.ACCTS                         0\n",
       "PRI.CURRENT.BALANCE                       0\n",
       "PRI.SANCTIONED.AMOUNT                     0\n",
       "PRI.DISBURSED.AMOUNT                      0\n",
       "SEC.NO.OF.ACCTS                           0\n",
       "SEC.ACTIVE.ACCTS                          0\n",
       "SEC.OVERDUE.ACCTS                         0\n",
       "SEC.CURRENT.BALANCE                       0\n",
       "SEC.SANCTIONED.AMOUNT                     0\n",
       "SEC.DISBURSED.AMOUNT                      0\n",
       "PRIMARY.INSTAL.AMT                        0\n",
       "SEC.INSTAL.AMT                            0\n",
       "NEW.ACCTS.IN.LAST.SIX.MONTHS              0\n",
       "DELINQUENT.ACCTS.IN.LAST.SIX.MONTHS       0\n",
       "AVERAGE.ACCT.AGE                          0\n",
       "CREDIT.HISTORY.LENGTH                     0\n",
       "NO.OF_INQUIRIES                           0\n",
       "loan_default                              0\n",
       "dtype: int64"
      ]
     },
     "execution_count": 5,
     "metadata": {},
     "output_type": "execute_result"
    }
   ],
   "source": [
    "data.isnull().sum()"
   ]
  },
  {
   "cell_type": "code",
   "execution_count": 6,
   "metadata": {},
   "outputs": [
    {
     "data": {
      "text/plain": [
       "['disbursed_amount',\n",
       " 'asset_cost',\n",
       " 'ltv',\n",
       " 'branch_id',\n",
       " 'supplier_id',\n",
       " 'manufacturer_id',\n",
       " 'Current_pincode_ID',\n",
       " 'State_ID',\n",
       " 'Employee_code_ID',\n",
       " 'MobileNo_Avl_Flag',\n",
       " 'Aadhar_flag',\n",
       " 'PAN_flag',\n",
       " 'VoterID_flag',\n",
       " 'Driving_flag',\n",
       " 'Passport_flag',\n",
       " 'PERFORM_CNS.SCORE',\n",
       " 'PRI.NO.OF.ACCTS',\n",
       " 'PRI.ACTIVE.ACCTS',\n",
       " 'PRI.OVERDUE.ACCTS',\n",
       " 'PRI.CURRENT.BALANCE',\n",
       " 'PRI.SANCTIONED.AMOUNT',\n",
       " 'PRI.DISBURSED.AMOUNT',\n",
       " 'SEC.NO.OF.ACCTS',\n",
       " 'SEC.ACTIVE.ACCTS',\n",
       " 'SEC.OVERDUE.ACCTS',\n",
       " 'SEC.CURRENT.BALANCE',\n",
       " 'SEC.SANCTIONED.AMOUNT',\n",
       " 'SEC.DISBURSED.AMOUNT',\n",
       " 'PRIMARY.INSTAL.AMT',\n",
       " 'SEC.INSTAL.AMT',\n",
       " 'NEW.ACCTS.IN.LAST.SIX.MONTHS',\n",
       " 'DELINQUENT.ACCTS.IN.LAST.SIX.MONTHS',\n",
       " 'NO.OF_INQUIRIES',\n",
       " 'loan_default']"
      ]
     },
     "execution_count": 6,
     "metadata": {},
     "output_type": "execute_result"
    }
   ],
   "source": [
    "numerical_feature_columns = list(data._get_numeric_data().columns)\n",
    "numerical_feature_columns"
   ]
  },
  {
   "cell_type": "code",
   "execution_count": 7,
   "metadata": {},
   "outputs": [
    {
     "data": {
      "text/plain": [
       "['Date.of.Birth',\n",
       " 'Employment.Type',\n",
       " 'CREDIT.HISTORY.LENGTH',\n",
       " 'DisbursalDate',\n",
       " 'AVERAGE.ACCT.AGE',\n",
       " 'PERFORM_CNS.SCORE.DESCRIPTION']"
      ]
     },
     "execution_count": 7,
     "metadata": {},
     "output_type": "execute_result"
    }
   ],
   "source": [
    "categorical_feature_columns = list(set(data.columns) - set(numerical_feature_columns))\n",
    "categorical_feature_columns"
   ]
  },
  {
   "cell_type": "code",
   "execution_count": 8,
   "metadata": {},
   "outputs": [
    {
     "data": {
      "image/png": "[encoded data removed]",
      "text/plain": [
       "<Figure size 720x288 with 2 Axes>"
      ]
     },
     "metadata": {
      "needs_background": "light"
     },
     "output_type": "display_data"
    },
    {
     "data": {
      "image/png": "[encoded data removed]",
      "text/plain": [
       "<Figure size 720x288 with 2 Axes>"
      ]
     },
     "metadata": {
      "needs_background": "light"
     },
     "output_type": "display_data"
    },
    {
     "data": {
      "image/png": "[encoded data removed]",
      "text/plain": [
       "<Figure size 720x288 with 2 Axes>"
      ]
     },
     "metadata": {
      "needs_background": "light"
     },
     "output_type": "display_data"
    },
    {
     "data": {
      "image/png": "[encoded data removed]",
      "text/plain": [
       "<Figure size 720x288 with 2 Axes>"
      ]
     },
     "metadata": {
      "needs_background": "light"
     },
     "output_type": "display_data"
    },
    {
     "data": {
      "image/png": "[encoded data removed]",
      "text/plain": [
       "<Figure size 720x288 with 2 Axes>"
      ]
     },
     "metadata": {
      "needs_background": "light"
     },
     "output_type": "display_data"
    },
    {
     "data": {
      "image/png": "[encoded data removed]",
      "text/plain": [
       "<Figure size 720x288 with 2 Axes>"
      ]
     },
     "metadata": {
      "needs_background": "light"
     },
     "output_type": "display_data"
    }
   ],
   "source": [
    "num_cols = ['disbursed_amount','asset_cost','ltv','PERFORM_CNS.SCORE','PRI.CURRENT.BALANCE','PRI.SANCTIONED.AMOUNT','PRI.DISBURSED.AMOUNT','PRIMARY.INSTAL.AMT','SEC.CURRENT.BALANCE','SEC.SANCTIONED.AMOUNT','SEC.DISBURSED.AMOUNT','SEC.INSTAL.AMT']\n",
    "\n",
    "for i in range(0,len(num_cols),2):\n",
    "    if len(num_cols) > i+1:\n",
    "        plt.figure(figsize=(10,4))\n",
    "        plt.subplot(121)\n",
    "        sns.distplot(data[num_cols[i]], kde=False)\n",
    "        plt.subplot(122)            \n",
    "        sns.distplot(data[num_cols[i+1]], kde=False)\n",
    "        plt.tight_layout()\n",
    "        plt.show()\n",
    "\n",
    "    else:\n",
    "        sns.distplot(data[num_cols[i]], kde=False)"
   ]
  },
  {
   "cell_type": "code",
   "execution_count": 9,
   "metadata": {},
   "outputs": [
    {
     "data": {
      "image/png": "[encoded data removed]",
      "text/plain": [
       "<Figure size 720x576 with 1 Axes>"
      ]
     },
     "metadata": {
      "needs_background": "light"
     },
     "output_type": "display_data"
    }
   ],
   "source": [
    "data['ltv_4th_degree']  =data['ltv']**4\n",
    "plt.figure(figsize = (10,8))\n",
    "sns.distplot(data['ltv_4th_degree'])\n",
    "\n",
    "test['ltv_4th_degree']  =test['ltv']**4"
   ]
  },
  {
   "cell_type": "code",
   "execution_count": 10,
   "metadata": {},
   "outputs": [
    {
     "data": {
      "text/plain": [
       "<matplotlib.axes._subplots.AxesSubplot at 0x2131605a5f8>"
      ]
     },
     "execution_count": 10,
     "metadata": {},
     "output_type": "execute_result"
    },
    {
     "data": {
      "image/png": "[encoded data removed]",
      "text/plain": [
       "<Figure size 720x576 with 1 Axes>"
      ]
     },
     "metadata": {
      "needs_background": "light"
     },
     "output_type": "display_data"
    }
   ],
   "source": [
    "data['disbursed_amount_8th_root']  =data['disbursed_amount']**(1/8)\n",
    "test['disbursed_amount_8th_root']  =test['disbursed_amount']**(1/8)\n",
    "plt.figure(figsize = (10,8))\n",
    "sns.distplot(data['disbursed_amount_8th_root'])"
   ]
  },
  {
   "cell_type": "code",
   "execution_count": 11,
   "metadata": {},
   "outputs": [
    {
     "data": {
      "text/plain": [
       "<matplotlib.axes._subplots.AxesSubplot at 0x2131605a240>"
      ]
     },
     "execution_count": 11,
     "metadata": {},
     "output_type": "execute_result"
    },
    {
     "data": {
      "image/png": "[encoded data removed]",
      "text/plain": [
       "<Figure size 432x288 with 1 Axes>"
      ]
     },
     "metadata": {
      "needs_background": "light"
     },
     "output_type": "display_data"
    }
   ],
   "source": [
    "data.boxplot('disbursed_amount_8th_root')"
   ]
  },
  {
   "cell_type": "code",
   "execution_count": 12,
   "metadata": {},
   "outputs": [],
   "source": [
    "mask1 = (data['disbursed_amount_8th_root'] < 4.5) & (data['disbursed_amount_8th_root'] > 3.5)\n",
    "data = data[mask1]\n",
    "data.shape\n",
    "mask2 = (test['disbursed_amount_8th_root'] < 4.5) & (test['disbursed_amount_8th_root'] > 3.5)\n",
    "test = test[mask2]"
   ]
  },
  {
   "cell_type": "code",
   "execution_count": 13,
   "metadata": {},
   "outputs": [
    {
     "name": "stdout",
     "output_type": "stream",
     "text": [
      "<class 'pandas.core.frame.DataFrame'>\n",
      "Int64Index: 232322 entries, 420825 to 630213\n",
      "Data columns (total 42 columns):\n",
      "disbursed_amount                       232322 non-null int64\n",
      "asset_cost                             232322 non-null int64\n",
      "ltv                                    232322 non-null float64\n",
      "branch_id                              232322 non-null int64\n",
      "supplier_id                            232322 non-null int64\n",
      "manufacturer_id                        232322 non-null int64\n",
      "Current_pincode_ID                     232322 non-null int64\n",
      "Date.of.Birth                          232322 non-null object\n",
      "Employment.Type                        224679 non-null object\n",
      "DisbursalDate                          232322 non-null object\n",
      "State_ID                               232322 non-null int64\n",
      "Employee_code_ID                       232322 non-null int64\n",
      "MobileNo_Avl_Flag                      232322 non-null int64\n",
      "Aadhar_flag                            232322 non-null int64\n",
      "PAN_flag                               232322 non-null int64\n",
      "VoterID_flag                           232322 non-null int64\n",
      "Driving_flag                           232322 non-null int64\n",
      "Passport_flag                          232322 non-null int64\n",
      "PERFORM_CNS.SCORE                      232322 non-null int64\n",
      "PERFORM_CNS.SCORE.DESCRIPTION          232322 non-null object\n",
      "PRI.NO.OF.ACCTS                        232322 non-null int64\n",
      "PRI.ACTIVE.ACCTS                       232322 non-null int64\n",
      "PRI.OVERDUE.ACCTS                      232322 non-null int64\n",
      "PRI.CURRENT.BALANCE                    232322 non-null int64\n",
      "PRI.SANCTIONED.AMOUNT                  232322 non-null int64\n",
      "PRI.DISBURSED.AMOUNT                   232322 non-null int64\n",
      "SEC.NO.OF.ACCTS                        232322 non-null int64\n",
      "SEC.ACTIVE.ACCTS                       232322 non-null int64\n",
      "SEC.OVERDUE.ACCTS                      232322 non-null int64\n",
      "SEC.CURRENT.BALANCE                    232322 non-null int64\n",
      "SEC.SANCTIONED.AMOUNT                  232322 non-null int64\n",
      "SEC.DISBURSED.AMOUNT                   232322 non-null int64\n",
      "PRIMARY.INSTAL.AMT                     232322 non-null int64\n",
      "SEC.INSTAL.AMT                         232322 non-null int64\n",
      "NEW.ACCTS.IN.LAST.SIX.MONTHS           232322 non-null int64\n",
      "DELINQUENT.ACCTS.IN.LAST.SIX.MONTHS    232322 non-null int64\n",
      "AVERAGE.ACCT.AGE                       232322 non-null object\n",
      "CREDIT.HISTORY.LENGTH                  232322 non-null object\n",
      "NO.OF_INQUIRIES                        232322 non-null int64\n",
      "loan_default                           232322 non-null int64\n",
      "ltv_4th_degree                         232322 non-null float64\n",
      "disbursed_amount_8th_root              232322 non-null float64\n",
      "dtypes: float64(3), int64(33), object(6)\n",
      "memory usage: 76.2+ MB\n"
     ]
    }
   ],
   "source": [
    "data.info()"
   ]
  },
  {
   "cell_type": "code",
   "execution_count": 14,
   "metadata": {
    "scrolled": true
   },
   "outputs": [
    {
     "data": {
      "image/png": "[encoded data removed]",
      "text/plain": [
       "<Figure size 720x288 with 2 Axes>"
      ]
     },
     "metadata": {
      "needs_background": "light"
     },
     "output_type": "display_data"
    },
    {
     "data": {
      "image/png": "[encoded data removed]",
      "text/plain": [
       "<Figure size 720x288 with 2 Axes>"
      ]
     },
     "metadata": {
      "needs_background": "light"
     },
     "output_type": "display_data"
    },
    {
     "data": {
      "image/png": "[encoded data removed]",
      "text/plain": [
       "<Figure size 720x288 with 2 Axes>"
      ]
     },
     "metadata": {
      "needs_background": "light"
     },
     "output_type": "display_data"
    },
    {
     "data": {
      "image/png": "[encoded data removed]",
      "text/plain": [
       "<Figure size 720x288 with 2 Axes>"
      ]
     },
     "metadata": {
      "needs_background": "light"
     },
     "output_type": "display_data"
    },
    {
     "data": {
      "image/png": "[encoded data removed]",
      "text/plain": [
       "<Figure size 720x288 with 2 Axes>"
      ]
     },
     "metadata": {
      "needs_background": "light"
     },
     "output_type": "display_data"
    },
    {
     "data": {
      "image/png": "[encoded data removed]",
      "text/plain": [
       "<Figure size 720x288 with 2 Axes>"
      ]
     },
     "metadata": {
      "needs_background": "light"
     },
     "output_type": "display_data"
    },
    {
     "data": {
      "image/png": "[encoded data removed]",
      "text/plain": [
       "<Figure size 720x288 with 2 Axes>"
      ]
     },
     "metadata": {
      "needs_background": "light"
     },
     "output_type": "display_data"
    }
   ],
   "source": [
    "num_cols = ['disbursed_amount','disbursed_amount_8th_root','asset_cost','ltv','PERFORM_CNS.SCORE','PRI.CURRENT.BALANCE','PRI.SANCTIONED.AMOUNT','PRI.DISBURSED.AMOUNT','PRIMARY.INSTAL.AMT','SEC.CURRENT.BALANCE','SEC.SANCTIONED.AMOUNT','SEC.DISBURSED.AMOUNT','SEC.INSTAL.AMT','ltv_4th_degree']\n",
    "\n",
    "for i in range(0,len(num_cols),2):\n",
    "    if len(num_cols) > i+1:\n",
    "        plt.figure(figsize=(10,4))\n",
    "        plt.subplot(121)\n",
    "        data.boxplot(num_cols[i])\n",
    "        plt.subplot(122)            \n",
    "        data.boxplot(num_cols[i+1])\n",
    "        plt.tight_layout()\n",
    "        plt.show()\n",
    "\n",
    "    else:\n",
    "        data.boxplot(num_cols[i])"
   ]
  },
  {
   "cell_type": "code",
   "execution_count": 15,
   "metadata": {},
   "outputs": [
    {
     "name": "stdout",
     "output_type": "stream",
     "text": [
      "<class 'pandas.core.frame.DataFrame'>\n",
      "Int64Index: 232322 entries, 420825 to 630213\n",
      "Data columns (total 42 columns):\n",
      "disbursed_amount                       232322 non-null int64\n",
      "asset_cost                             232322 non-null int64\n",
      "ltv                                    232322 non-null float64\n",
      "branch_id                              232322 non-null int64\n",
      "supplier_id                            232322 non-null int64\n",
      "manufacturer_id                        232322 non-null int64\n",
      "Current_pincode_ID                     232322 non-null int64\n",
      "Date.of.Birth                          232322 non-null object\n",
      "Employment.Type                        224679 non-null object\n",
      "DisbursalDate                          232322 non-null object\n",
      "State_ID                               232322 non-null int64\n",
      "Employee_code_ID                       232322 non-null int64\n",
      "MobileNo_Avl_Flag                      232322 non-null int64\n",
      "Aadhar_flag                            232322 non-null int64\n",
      "PAN_flag                               232322 non-null int64\n",
      "VoterID_flag                           232322 non-null int64\n",
      "Driving_flag                           232322 non-null int64\n",
      "Passport_flag                          232322 non-null int64\n",
      "PERFORM_CNS.SCORE                      232322 non-null int64\n",
      "PERFORM_CNS.SCORE.DESCRIPTION          232322 non-null object\n",
      "PRI.NO.OF.ACCTS                        232322 non-null int64\n",
      "PRI.ACTIVE.ACCTS                       232322 non-null int64\n",
      "PRI.OVERDUE.ACCTS                      232322 non-null int64\n",
      "PRI.CURRENT.BALANCE                    232322 non-null int64\n",
      "PRI.SANCTIONED.AMOUNT                  232322 non-null int64\n",
      "PRI.DISBURSED.AMOUNT                   232322 non-null int64\n",
      "SEC.NO.OF.ACCTS                        232322 non-null int64\n",
      "SEC.ACTIVE.ACCTS                       232322 non-null int64\n",
      "SEC.OVERDUE.ACCTS                      232322 non-null int64\n",
      "SEC.CURRENT.BALANCE                    232322 non-null int64\n",
      "SEC.SANCTIONED.AMOUNT                  232322 non-null int64\n",
      "SEC.DISBURSED.AMOUNT                   232322 non-null int64\n",
      "PRIMARY.INSTAL.AMT                     232322 non-null int64\n",
      "SEC.INSTAL.AMT                         232322 non-null int64\n",
      "NEW.ACCTS.IN.LAST.SIX.MONTHS           232322 non-null int64\n",
      "DELINQUENT.ACCTS.IN.LAST.SIX.MONTHS    232322 non-null int64\n",
      "AVERAGE.ACCT.AGE                       232322 non-null object\n",
      "CREDIT.HISTORY.LENGTH                  232322 non-null object\n",
      "NO.OF_INQUIRIES                        232322 non-null int64\n",
      "loan_default                           232322 non-null int64\n",
      "ltv_4th_degree                         232322 non-null float64\n",
      "disbursed_amount_8th_root              232322 non-null float64\n",
      "dtypes: float64(3), int64(33), object(6)\n",
      "memory usage: 76.2+ MB\n"
     ]
    }
   ],
   "source": [
    "data.info()"
   ]
  },
  {
   "cell_type": "code",
   "execution_count": 16,
   "metadata": {},
   "outputs": [
    {
     "data": {
      "image/png": "[encoded data removed]",
      "text/plain": [
       "<Figure size 720x288 with 2 Axes>"
      ]
     },
     "metadata": {
      "needs_background": "light"
     },
     "output_type": "display_data"
    },
    {
     "data": {
      "image/png": "[encoded data removed]",
      "text/plain": [
       "<Figure size 720x288 with 2 Axes>"
      ]
     },
     "metadata": {
      "needs_background": "light"
     },
     "output_type": "display_data"
    },
    {
     "data": {
      "image/png": "[encoded data removed]",
      "text/plain": [
       "<Figure size 720x288 with 2 Axes>"
      ]
     },
     "metadata": {
      "needs_background": "light"
     },
     "output_type": "display_data"
    },
    {
     "data": {
      "image/png": "[encoded data removed]",
      "text/plain": [
       "<Figure size 720x288 with 2 Axes>"
      ]
     },
     "metadata": {
      "needs_background": "light"
     },
     "output_type": "display_data"
    },
    {
     "data": {
      "image/png": "[encoded data removed]",
      "text/plain": [
       "<Figure size 720x288 with 2 Axes>"
      ]
     },
     "metadata": {
      "needs_background": "light"
     },
     "output_type": "display_data"
    },
    {
     "data": {
      "image/png": "[encoded data removed]",
      "text/plain": [
       "<Figure size 720x288 with 2 Axes>"
      ]
     },
     "metadata": {
      "needs_background": "light"
     },
     "output_type": "display_data"
    },
    {
     "data": {
      "image/png": "[encoded data removed]",
      "text/plain": [
       "<Figure size 720x288 with 2 Axes>"
      ]
     },
     "metadata": {
      "needs_background": "light"
     },
     "output_type": "display_data"
    }
   ],
   "source": [
    "num_cols = ['disbursed_amount','disbursed_amount_8th_root','asset_cost','ltv','PERFORM_CNS.SCORE','PRI.CURRENT.BALANCE','PRI.SANCTIONED.AMOUNT','PRI.DISBURSED.AMOUNT','PRIMARY.INSTAL.AMT','SEC.CURRENT.BALANCE','SEC.SANCTIONED.AMOUNT','SEC.DISBURSED.AMOUNT','SEC.INSTAL.AMT','ltv_4th_degree']\n",
    "\n",
    "for i in range(0,len(num_cols),2):\n",
    "    if len(num_cols) > i+1:\n",
    "        plt.figure(figsize=(10,4))\n",
    "        plt.subplot(121)\n",
    "        sns.distplot(data[num_cols[i]], kde=False)\n",
    "        plt.subplot(122)            \n",
    "        sns.distplot(data[num_cols[i+1]], kde=False)\n",
    "        plt.tight_layout()\n",
    "        plt.show()\n",
    "\n",
    "    else:\n",
    "        sns.distplot(data[num_cols[i]], kde=False)"
   ]
  },
  {
   "cell_type": "code",
   "execution_count": 17,
   "metadata": {},
   "outputs": [
    {
     "name": "stdout",
     "output_type": "stream",
     "text": [
      "<class 'pandas.core.frame.DataFrame'>\n",
      "Int64Index: 232322 entries, 420825 to 630213\n",
      "Data columns (total 42 columns):\n",
      "disbursed_amount                       232322 non-null int64\n",
      "asset_cost                             232322 non-null int64\n",
      "ltv                                    232322 non-null float64\n",
      "branch_id                              232322 non-null int64\n",
      "supplier_id                            232322 non-null int64\n",
      "manufacturer_id                        232322 non-null int64\n",
      "Current_pincode_ID                     232322 non-null int64\n",
      "Date.of.Birth                          232322 non-null object\n",
      "Employment.Type                        224679 non-null object\n",
      "DisbursalDate                          232322 non-null object\n",
      "State_ID                               232322 non-null int64\n",
      "Employee_code_ID                       232322 non-null int64\n",
      "MobileNo_Avl_Flag                      232322 non-null int64\n",
      "Aadhar_flag                            232322 non-null int64\n",
      "PAN_flag                               232322 non-null int64\n",
      "VoterID_flag                           232322 non-null int64\n",
      "Driving_flag                           232322 non-null int64\n",
      "Passport_flag                          232322 non-null int64\n",
      "PERFORM_CNS.SCORE                      232322 non-null int64\n",
      "PERFORM_CNS.SCORE.DESCRIPTION          232322 non-null object\n",
      "PRI.NO.OF.ACCTS                        232322 non-null int64\n",
      "PRI.ACTIVE.ACCTS                       232322 non-null int64\n",
      "PRI.OVERDUE.ACCTS                      232322 non-null int64\n",
      "PRI.CURRENT.BALANCE                    232322 non-null int64\n",
      "PRI.SANCTIONED.AMOUNT                  232322 non-null int64\n",
      "PRI.DISBURSED.AMOUNT                   232322 non-null int64\n",
      "SEC.NO.OF.ACCTS                        232322 non-null int64\n",
      "SEC.ACTIVE.ACCTS                       232322 non-null int64\n",
      "SEC.OVERDUE.ACCTS                      232322 non-null int64\n",
      "SEC.CURRENT.BALANCE                    232322 non-null int64\n",
      "SEC.SANCTIONED.AMOUNT                  232322 non-null int64\n",
      "SEC.DISBURSED.AMOUNT                   232322 non-null int64\n",
      "PRIMARY.INSTAL.AMT                     232322 non-null int64\n",
      "SEC.INSTAL.AMT                         232322 non-null int64\n",
      "NEW.ACCTS.IN.LAST.SIX.MONTHS           232322 non-null int64\n",
      "DELINQUENT.ACCTS.IN.LAST.SIX.MONTHS    232322 non-null int64\n",
      "AVERAGE.ACCT.AGE                       232322 non-null object\n",
      "CREDIT.HISTORY.LENGTH                  232322 non-null object\n",
      "NO.OF_INQUIRIES                        232322 non-null int64\n",
      "loan_default                           232322 non-null int64\n",
      "ltv_4th_degree                         232322 non-null float64\n",
      "disbursed_amount_8th_root              232322 non-null float64\n",
      "dtypes: float64(3), int64(33), object(6)\n",
      "memory usage: 76.2+ MB\n"
     ]
    }
   ],
   "source": [
    "data.info()"
   ]
  },
  {
   "cell_type": "code",
   "execution_count": 18,
   "metadata": {},
   "outputs": [
    {
     "data": {
      "text/html": [
       "<div>\n",
       "<style scoped>\n",
       "    .dataframe tbody tr th:only-of-type {\n",
       "        vertical-align: middle;\n",
       "    }\n",
       "\n",
       "    .dataframe tbody tr th {\n",
       "        vertical-align: top;\n",
       "    }\n",
       "\n",
       "    .dataframe thead th {\n",
       "        text-align: right;\n",
       "    }\n",
       "</style>\n",
       "<table border=\"1\" class=\"dataframe\">\n",
       "  <thead>\n",
       "    <tr style=\"text-align: right;\">\n",
       "      <th></th>\n",
       "      <th>Date.of.Birth</th>\n",
       "      <th>Employment.Type</th>\n",
       "      <th>CREDIT.HISTORY.LENGTH</th>\n",
       "      <th>DisbursalDate</th>\n",
       "      <th>AVERAGE.ACCT.AGE</th>\n",
       "      <th>PERFORM_CNS.SCORE.DESCRIPTION</th>\n",
       "    </tr>\n",
       "    <tr>\n",
       "      <th>UniqueID</th>\n",
       "      <th></th>\n",
       "      <th></th>\n",
       "      <th></th>\n",
       "      <th></th>\n",
       "      <th></th>\n",
       "      <th></th>\n",
       "    </tr>\n",
       "  </thead>\n",
       "  <tbody>\n",
       "    <tr>\n",
       "      <th>420825</th>\n",
       "      <td>01-01-84</td>\n",
       "      <td>Salaried</td>\n",
       "      <td>0yrs 0mon</td>\n",
       "      <td>03-08-18</td>\n",
       "      <td>0yrs 0mon</td>\n",
       "      <td>No Bureau History Available</td>\n",
       "    </tr>\n",
       "    <tr>\n",
       "      <th>537409</th>\n",
       "      <td>31-07-85</td>\n",
       "      <td>Self employed</td>\n",
       "      <td>1yrs 11mon</td>\n",
       "      <td>26-09-18</td>\n",
       "      <td>1yrs 11mon</td>\n",
       "      <td>I-Medium Risk</td>\n",
       "    </tr>\n",
       "    <tr>\n",
       "      <th>417566</th>\n",
       "      <td>24-08-85</td>\n",
       "      <td>Self employed</td>\n",
       "      <td>0yrs 0mon</td>\n",
       "      <td>01-08-18</td>\n",
       "      <td>0yrs 0mon</td>\n",
       "      <td>No Bureau History Available</td>\n",
       "    </tr>\n",
       "    <tr>\n",
       "      <th>624493</th>\n",
       "      <td>30-12-93</td>\n",
       "      <td>Self employed</td>\n",
       "      <td>1yrs 3mon</td>\n",
       "      <td>26-10-18</td>\n",
       "      <td>0yrs 8mon</td>\n",
       "      <td>L-Very High Risk</td>\n",
       "    </tr>\n",
       "    <tr>\n",
       "      <th>539055</th>\n",
       "      <td>09-12-77</td>\n",
       "      <td>Self employed</td>\n",
       "      <td>0yrs 0mon</td>\n",
       "      <td>26-09-18</td>\n",
       "      <td>0yrs 0mon</td>\n",
       "      <td>No Bureau History Available</td>\n",
       "    </tr>\n",
       "  </tbody>\n",
       "</table>\n",
       "</div>"
      ],
      "text/plain": [
       "         Date.of.Birth Employment.Type CREDIT.HISTORY.LENGTH DisbursalDate  \\\n",
       "UniqueID                                                                     \n",
       "420825        01-01-84        Salaried             0yrs 0mon      03-08-18   \n",
       "537409        31-07-85   Self employed            1yrs 11mon      26-09-18   \n",
       "417566        24-08-85   Self employed             0yrs 0mon      01-08-18   \n",
       "624493        30-12-93   Self employed             1yrs 3mon      26-10-18   \n",
       "539055        09-12-77   Self employed             0yrs 0mon      26-09-18   \n",
       "\n",
       "         AVERAGE.ACCT.AGE PERFORM_CNS.SCORE.DESCRIPTION  \n",
       "UniqueID                                                 \n",
       "420825          0yrs 0mon   No Bureau History Available  \n",
       "537409         1yrs 11mon                 I-Medium Risk  \n",
       "417566          0yrs 0mon   No Bureau History Available  \n",
       "624493          0yrs 8mon              L-Very High Risk  \n",
       "539055          0yrs 0mon   No Bureau History Available  "
      ]
     },
     "execution_count": 18,
     "metadata": {},
     "output_type": "execute_result"
    }
   ],
   "source": [
    "data[categorical_feature_columns].head()"
   ]
  },
  {
   "cell_type": "code",
   "execution_count": 19,
   "metadata": {},
   "outputs": [],
   "source": [
    "data['AVERAGE.ACCT.AGE'] = data['AVERAGE.ACCT.AGE'].str.replace('yrs ','.',regex=False)\n",
    "data['AVERAGE.ACCT.AGE'] = data['AVERAGE.ACCT.AGE'].str.replace('mon','',regex=False).astype(float)\n",
    "data['CREDIT.HISTORY.LENGTH'] = data['CREDIT.HISTORY.LENGTH'].str.replace('yrs ','.',regex=False)\n",
    "data['CREDIT.HISTORY.LENGTH'] = data['CREDIT.HISTORY.LENGTH'].str.replace('mon','',regex=False).astype(float)\n",
    "data[categorical_feature_columns].head()\n",
    "\n",
    "test['AVERAGE.ACCT.AGE'] = test['AVERAGE.ACCT.AGE'].str.replace('yrs ','.',regex=False)\n",
    "test['AVERAGE.ACCT.AGE'] = test['AVERAGE.ACCT.AGE'].str.replace('mon','',regex=False).astype(float)\n",
    "test['CREDIT.HISTORY.LENGTH'] = test['CREDIT.HISTORY.LENGTH'].str.replace('yrs ','.',regex=False)\n",
    "test['CREDIT.HISTORY.LENGTH'] = test['CREDIT.HISTORY.LENGTH'].str.replace('mon','',regex=False).astype(float)"
   ]
  },
  {
   "cell_type": "code",
   "execution_count": 20,
   "metadata": {},
   "outputs": [
    {
     "data": {
      "text/plain": [
       "7643"
      ]
     },
     "execution_count": 20,
     "metadata": {},
     "output_type": "execute_result"
    }
   ],
   "source": [
    "data['Employment.Type'].isnull().sum()"
   ]
  },
  {
   "cell_type": "code",
   "execution_count": 21,
   "metadata": {},
   "outputs": [
    {
     "name": "stdout",
     "output_type": "stream",
     "text": [
      "                                     Total  Percent\n",
      "disbursed_amount                         0  0.00000\n",
      "asset_cost                               0  0.00000\n",
      "ltv                                      0  0.00000\n",
      "branch_id                                0  0.00000\n",
      "supplier_id                              0  0.00000\n",
      "manufacturer_id                          0  0.00000\n",
      "Current_pincode_ID                       0  0.00000\n",
      "Date.of.Birth                            0  0.00000\n",
      "Employment.Type                       7643  3.28983\n",
      "DisbursalDate                            0  0.00000\n",
      "State_ID                                 0  0.00000\n",
      "Employee_code_ID                         0  0.00000\n",
      "MobileNo_Avl_Flag                        0  0.00000\n",
      "Aadhar_flag                              0  0.00000\n",
      "PAN_flag                                 0  0.00000\n",
      "VoterID_flag                             0  0.00000\n",
      "Driving_flag                             0  0.00000\n",
      "Passport_flag                            0  0.00000\n",
      "PERFORM_CNS.SCORE                        0  0.00000\n",
      "PERFORM_CNS.SCORE.DESCRIPTION            0  0.00000\n",
      "PRI.NO.OF.ACCTS                          0  0.00000\n",
      "PRI.ACTIVE.ACCTS                         0  0.00000\n",
      "PRI.OVERDUE.ACCTS                        0  0.00000\n",
      "PRI.CURRENT.BALANCE                      0  0.00000\n",
      "PRI.SANCTIONED.AMOUNT                    0  0.00000\n",
      "PRI.DISBURSED.AMOUNT                     0  0.00000\n",
      "SEC.NO.OF.ACCTS                          0  0.00000\n",
      "SEC.ACTIVE.ACCTS                         0  0.00000\n",
      "SEC.OVERDUE.ACCTS                        0  0.00000\n",
      "SEC.CURRENT.BALANCE                      0  0.00000\n",
      "SEC.SANCTIONED.AMOUNT                    0  0.00000\n",
      "SEC.DISBURSED.AMOUNT                     0  0.00000\n",
      "PRIMARY.INSTAL.AMT                       0  0.00000\n",
      "SEC.INSTAL.AMT                           0  0.00000\n",
      "NEW.ACCTS.IN.LAST.SIX.MONTHS             0  0.00000\n",
      "DELINQUENT.ACCTS.IN.LAST.SIX.MONTHS      0  0.00000\n",
      "AVERAGE.ACCT.AGE                         0  0.00000\n",
      "CREDIT.HISTORY.LENGTH                    0  0.00000\n",
      "NO.OF_INQUIRIES                          0  0.00000\n",
      "loan_default                             0  0.00000\n",
      "ltv_4th_degree                           0  0.00000\n",
      "disbursed_amount_8th_root                0  0.00000\n"
     ]
    }
   ],
   "source": [
    "total_null = data.isnull().sum()\n",
    "percent_null = (total_null/(data.isnull().count())) * 100\n",
    "missing_data = pd.concat([total_null,percent_null], keys=['Total','Percent'],axis=1)\n",
    "print(missing_data)"
   ]
  },
  {
   "cell_type": "code",
   "execution_count": 22,
   "metadata": {},
   "outputs": [
    {
     "name": "stdout",
     "output_type": "stream",
     "text": [
      "                                     Total  Percent\n",
      "disbursed_amount                         0      0.0\n",
      "asset_cost                               0      0.0\n",
      "ltv                                      0      0.0\n",
      "branch_id                                0      0.0\n",
      "supplier_id                              0      0.0\n",
      "manufacturer_id                          0      0.0\n",
      "Current_pincode_ID                       0      0.0\n",
      "Date.of.Birth                            0      0.0\n",
      "Employment.Type                          0      0.0\n",
      "DisbursalDate                            0      0.0\n",
      "State_ID                                 0      0.0\n",
      "Employee_code_ID                         0      0.0\n",
      "MobileNo_Avl_Flag                        0      0.0\n",
      "Aadhar_flag                              0      0.0\n",
      "PAN_flag                                 0      0.0\n",
      "VoterID_flag                             0      0.0\n",
      "Driving_flag                             0      0.0\n",
      "Passport_flag                            0      0.0\n",
      "PERFORM_CNS.SCORE                        0      0.0\n",
      "PERFORM_CNS.SCORE.DESCRIPTION            0      0.0\n",
      "PRI.NO.OF.ACCTS                          0      0.0\n",
      "PRI.ACTIVE.ACCTS                         0      0.0\n",
      "PRI.OVERDUE.ACCTS                        0      0.0\n",
      "PRI.CURRENT.BALANCE                      0      0.0\n",
      "PRI.SANCTIONED.AMOUNT                    0      0.0\n",
      "PRI.DISBURSED.AMOUNT                     0      0.0\n",
      "SEC.NO.OF.ACCTS                          0      0.0\n",
      "SEC.ACTIVE.ACCTS                         0      0.0\n",
      "SEC.OVERDUE.ACCTS                        0      0.0\n",
      "SEC.CURRENT.BALANCE                      0      0.0\n",
      "SEC.SANCTIONED.AMOUNT                    0      0.0\n",
      "SEC.DISBURSED.AMOUNT                     0      0.0\n",
      "PRIMARY.INSTAL.AMT                       0      0.0\n",
      "SEC.INSTAL.AMT                           0      0.0\n",
      "NEW.ACCTS.IN.LAST.SIX.MONTHS             0      0.0\n",
      "DELINQUENT.ACCTS.IN.LAST.SIX.MONTHS      0      0.0\n",
      "AVERAGE.ACCT.AGE                         0      0.0\n",
      "CREDIT.HISTORY.LENGTH                    0      0.0\n",
      "NO.OF_INQUIRIES                          0      0.0\n",
      "loan_default                             0      0.0\n",
      "ltv_4th_degree                           0      0.0\n",
      "disbursed_amount_8th_root                0      0.0\n"
     ]
    }
   ],
   "source": [
    "data.dropna(inplace=True)\n",
    "total_null_1 = data.isnull().sum()\n",
    "percent_null_1 = (total_null_1/(data.isnull().count())) * 100\n",
    "missing_data_1 = pd.concat([total_null_1,percent_null_1], keys=['Total','Percent'],axis=1)\n",
    "print(missing_data_1)\n",
    "\n",
    "test.dropna(inplace=True)"
   ]
  },
  {
   "cell_type": "code",
   "execution_count": 23,
   "metadata": {},
   "outputs": [
    {
     "data": {
      "text/plain": [
       "(224679, 42)"
      ]
     },
     "execution_count": 23,
     "metadata": {},
     "output_type": "execute_result"
    }
   ],
   "source": [
    "data.shape"
   ]
  },
  {
   "cell_type": "code",
   "execution_count": 24,
   "metadata": {},
   "outputs": [
    {
     "data": {
      "text/plain": [
       "array(['Salaried', 'Self employed'], dtype=object)"
      ]
     },
     "execution_count": 24,
     "metadata": {},
     "output_type": "execute_result"
    }
   ],
   "source": [
    "data['Employment.Type'].unique()"
   ]
  },
  {
   "cell_type": "code",
   "execution_count": 25,
   "metadata": {
    "scrolled": true
   },
   "outputs": [],
   "source": [
    "data['Employment.Type'].replace({'Salaried':0, 'Self employed': 1}, inplace = True)\n",
    "test['Employment.Type'].replace({'Salaried':0, 'Self employed': 1}, inplace = True)"
   ]
  },
  {
   "cell_type": "code",
   "execution_count": 26,
   "metadata": {},
   "outputs": [
    {
     "data": {
      "text/html": [
       "<div>\n",
       "<style scoped>\n",
       "    .dataframe tbody tr th:only-of-type {\n",
       "        vertical-align: middle;\n",
       "    }\n",
       "\n",
       "    .dataframe tbody tr th {\n",
       "        vertical-align: top;\n",
       "    }\n",
       "\n",
       "    .dataframe thead th {\n",
       "        text-align: right;\n",
       "    }\n",
       "</style>\n",
       "<table border=\"1\" class=\"dataframe\">\n",
       "  <thead>\n",
       "    <tr style=\"text-align: right;\">\n",
       "      <th></th>\n",
       "      <th>disbursed_amount</th>\n",
       "      <th>asset_cost</th>\n",
       "      <th>ltv</th>\n",
       "      <th>branch_id</th>\n",
       "      <th>supplier_id</th>\n",
       "      <th>manufacturer_id</th>\n",
       "      <th>Current_pincode_ID</th>\n",
       "      <th>Date.of.Birth</th>\n",
       "      <th>Employment.Type</th>\n",
       "      <th>DisbursalDate</th>\n",
       "      <th>...</th>\n",
       "      <th>PRIMARY.INSTAL.AMT</th>\n",
       "      <th>SEC.INSTAL.AMT</th>\n",
       "      <th>NEW.ACCTS.IN.LAST.SIX.MONTHS</th>\n",
       "      <th>DELINQUENT.ACCTS.IN.LAST.SIX.MONTHS</th>\n",
       "      <th>AVERAGE.ACCT.AGE</th>\n",
       "      <th>CREDIT.HISTORY.LENGTH</th>\n",
       "      <th>NO.OF_INQUIRIES</th>\n",
       "      <th>loan_default</th>\n",
       "      <th>ltv_4th_degree</th>\n",
       "      <th>disbursed_amount_8th_root</th>\n",
       "    </tr>\n",
       "    <tr>\n",
       "      <th>UniqueID</th>\n",
       "      <th></th>\n",
       "      <th></th>\n",
       "      <th></th>\n",
       "      <th></th>\n",
       "      <th></th>\n",
       "      <th></th>\n",
       "      <th></th>\n",
       "      <th></th>\n",
       "      <th></th>\n",
       "      <th></th>\n",
       "      <th></th>\n",
       "      <th></th>\n",
       "      <th></th>\n",
       "      <th></th>\n",
       "      <th></th>\n",
       "      <th></th>\n",
       "      <th></th>\n",
       "      <th></th>\n",
       "      <th></th>\n",
       "      <th></th>\n",
       "      <th></th>\n",
       "    </tr>\n",
       "  </thead>\n",
       "  <tbody>\n",
       "    <tr>\n",
       "      <th>420825</th>\n",
       "      <td>50578</td>\n",
       "      <td>58400</td>\n",
       "      <td>89.55</td>\n",
       "      <td>67</td>\n",
       "      <td>22807</td>\n",
       "      <td>45</td>\n",
       "      <td>1441</td>\n",
       "      <td>01-01-84</td>\n",
       "      <td>0</td>\n",
       "      <td>03-08-18</td>\n",
       "      <td>...</td>\n",
       "      <td>0</td>\n",
       "      <td>0</td>\n",
       "      <td>0</td>\n",
       "      <td>0</td>\n",
       "      <td>0.00</td>\n",
       "      <td>0.00</td>\n",
       "      <td>0</td>\n",
       "      <td>0</td>\n",
       "      <td>6.430761e+07</td>\n",
       "      <td>3.872534</td>\n",
       "    </tr>\n",
       "    <tr>\n",
       "      <th>537409</th>\n",
       "      <td>47145</td>\n",
       "      <td>65550</td>\n",
       "      <td>73.23</td>\n",
       "      <td>67</td>\n",
       "      <td>22807</td>\n",
       "      <td>45</td>\n",
       "      <td>1502</td>\n",
       "      <td>31-07-85</td>\n",
       "      <td>1</td>\n",
       "      <td>26-09-18</td>\n",
       "      <td>...</td>\n",
       "      <td>1991</td>\n",
       "      <td>0</td>\n",
       "      <td>0</td>\n",
       "      <td>1</td>\n",
       "      <td>1.11</td>\n",
       "      <td>1.11</td>\n",
       "      <td>0</td>\n",
       "      <td>1</td>\n",
       "      <td>2.875783e+07</td>\n",
       "      <td>3.838658</td>\n",
       "    </tr>\n",
       "    <tr>\n",
       "      <th>417566</th>\n",
       "      <td>53278</td>\n",
       "      <td>61360</td>\n",
       "      <td>89.63</td>\n",
       "      <td>67</td>\n",
       "      <td>22807</td>\n",
       "      <td>45</td>\n",
       "      <td>1497</td>\n",
       "      <td>24-08-85</td>\n",
       "      <td>1</td>\n",
       "      <td>01-08-18</td>\n",
       "      <td>...</td>\n",
       "      <td>0</td>\n",
       "      <td>0</td>\n",
       "      <td>0</td>\n",
       "      <td>0</td>\n",
       "      <td>0.00</td>\n",
       "      <td>0.00</td>\n",
       "      <td>0</td>\n",
       "      <td>0</td>\n",
       "      <td>6.453772e+07</td>\n",
       "      <td>3.897790</td>\n",
       "    </tr>\n",
       "    <tr>\n",
       "      <th>624493</th>\n",
       "      <td>57513</td>\n",
       "      <td>66113</td>\n",
       "      <td>88.48</td>\n",
       "      <td>67</td>\n",
       "      <td>22807</td>\n",
       "      <td>45</td>\n",
       "      <td>1501</td>\n",
       "      <td>30-12-93</td>\n",
       "      <td>1</td>\n",
       "      <td>26-10-18</td>\n",
       "      <td>...</td>\n",
       "      <td>31</td>\n",
       "      <td>0</td>\n",
       "      <td>0</td>\n",
       "      <td>0</td>\n",
       "      <td>0.80</td>\n",
       "      <td>1.30</td>\n",
       "      <td>1</td>\n",
       "      <td>1</td>\n",
       "      <td>6.128871e+07</td>\n",
       "      <td>3.935236</td>\n",
       "    </tr>\n",
       "    <tr>\n",
       "      <th>539055</th>\n",
       "      <td>52378</td>\n",
       "      <td>60300</td>\n",
       "      <td>88.39</td>\n",
       "      <td>67</td>\n",
       "      <td>22807</td>\n",
       "      <td>45</td>\n",
       "      <td>1495</td>\n",
       "      <td>09-12-77</td>\n",
       "      <td>1</td>\n",
       "      <td>26-09-18</td>\n",
       "      <td>...</td>\n",
       "      <td>0</td>\n",
       "      <td>0</td>\n",
       "      <td>0</td>\n",
       "      <td>0</td>\n",
       "      <td>0.00</td>\n",
       "      <td>0.00</td>\n",
       "      <td>1</td>\n",
       "      <td>1</td>\n",
       "      <td>6.103972e+07</td>\n",
       "      <td>3.889499</td>\n",
       "    </tr>\n",
       "  </tbody>\n",
       "</table>\n",
       "<p>5 rows × 42 columns</p>\n",
       "</div>"
      ],
      "text/plain": [
       "          disbursed_amount  asset_cost    ltv  branch_id  supplier_id  \\\n",
       "UniqueID                                                                \n",
       "420825               50578       58400  89.55         67        22807   \n",
       "537409               47145       65550  73.23         67        22807   \n",
       "417566               53278       61360  89.63         67        22807   \n",
       "624493               57513       66113  88.48         67        22807   \n",
       "539055               52378       60300  88.39         67        22807   \n",
       "\n",
       "          manufacturer_id  Current_pincode_ID Date.of.Birth  Employment.Type  \\\n",
       "UniqueID                                                                       \n",
       "420825                 45                1441      01-01-84                0   \n",
       "537409                 45                1502      31-07-85                1   \n",
       "417566                 45                1497      24-08-85                1   \n",
       "624493                 45                1501      30-12-93                1   \n",
       "539055                 45                1495      09-12-77                1   \n",
       "\n",
       "         DisbursalDate  ...  PRIMARY.INSTAL.AMT  SEC.INSTAL.AMT  \\\n",
       "UniqueID                ...                                       \n",
       "420825        03-08-18  ...                   0               0   \n",
       "537409        26-09-18  ...                1991               0   \n",
       "417566        01-08-18  ...                   0               0   \n",
       "624493        26-10-18  ...                  31               0   \n",
       "539055        26-09-18  ...                   0               0   \n",
       "\n",
       "          NEW.ACCTS.IN.LAST.SIX.MONTHS  DELINQUENT.ACCTS.IN.LAST.SIX.MONTHS  \\\n",
       "UniqueID                                                                      \n",
       "420825                               0                                    0   \n",
       "537409                               0                                    1   \n",
       "417566                               0                                    0   \n",
       "624493                               0                                    0   \n",
       "539055                               0                                    0   \n",
       "\n",
       "          AVERAGE.ACCT.AGE  CREDIT.HISTORY.LENGTH  NO.OF_INQUIRIES  \\\n",
       "UniqueID                                                             \n",
       "420825                0.00                   0.00                0   \n",
       "537409                1.11                   1.11                0   \n",
       "417566                0.00                   0.00                0   \n",
       "624493                0.80                   1.30                1   \n",
       "539055                0.00                   0.00                1   \n",
       "\n",
       "          loan_default  ltv_4th_degree disbursed_amount_8th_root  \n",
       "UniqueID                                                          \n",
       "420825               0    6.430761e+07                  3.872534  \n",
       "537409               1    2.875783e+07                  3.838658  \n",
       "417566               0    6.453772e+07                  3.897790  \n",
       "624493               1    6.128871e+07                  3.935236  \n",
       "539055               1    6.103972e+07                  3.889499  \n",
       "\n",
       "[5 rows x 42 columns]"
      ]
     },
     "execution_count": 26,
     "metadata": {},
     "output_type": "execute_result"
    }
   ],
   "source": [
    "data.head()"
   ]
  },
  {
   "cell_type": "code",
   "execution_count": 27,
   "metadata": {},
   "outputs": [],
   "source": [
    "data.drop(['disbursed_amount','ltv','Date.of.Birth','DisbursalDate','PERFORM_CNS.SCORE.DESCRIPTION'], axis = 1, inplace=True)\n",
    "test.drop(['disbursed_amount','ltv','Date.of.Birth','DisbursalDate','PERFORM_CNS.SCORE.DESCRIPTION'], axis = 1, inplace=True)"
   ]
  },
  {
   "cell_type": "code",
   "execution_count": 28,
   "metadata": {},
   "outputs": [
    {
     "name": "stdout",
     "output_type": "stream",
     "text": [
      "<class 'pandas.core.frame.DataFrame'>\n",
      "Int64Index: 224679 entries, 420825 to 630213\n",
      "Data columns (total 37 columns):\n",
      "asset_cost                             224679 non-null int64\n",
      "branch_id                              224679 non-null int64\n",
      "supplier_id                            224679 non-null int64\n",
      "manufacturer_id                        224679 non-null int64\n",
      "Current_pincode_ID                     224679 non-null int64\n",
      "Employment.Type                        224679 non-null int64\n",
      "State_ID                               224679 non-null int64\n",
      "Employee_code_ID                       224679 non-null int64\n",
      "MobileNo_Avl_Flag                      224679 non-null int64\n",
      "Aadhar_flag                            224679 non-null int64\n",
      "PAN_flag                               224679 non-null int64\n",
      "VoterID_flag                           224679 non-null int64\n",
      "Driving_flag                           224679 non-null int64\n",
      "Passport_flag                          224679 non-null int64\n",
      "PERFORM_CNS.SCORE                      224679 non-null int64\n",
      "PRI.NO.OF.ACCTS                        224679 non-null int64\n",
      "PRI.ACTIVE.ACCTS                       224679 non-null int64\n",
      "PRI.OVERDUE.ACCTS                      224679 non-null int64\n",
      "PRI.CURRENT.BALANCE                    224679 non-null int64\n",
      "PRI.SANCTIONED.AMOUNT                  224679 non-null int64\n",
      "PRI.DISBURSED.AMOUNT                   224679 non-null int64\n",
      "SEC.NO.OF.ACCTS                        224679 non-null int64\n",
      "SEC.ACTIVE.ACCTS                       224679 non-null int64\n",
      "SEC.OVERDUE.ACCTS                      224679 non-null int64\n",
      "SEC.CURRENT.BALANCE                    224679 non-null int64\n",
      "SEC.SANCTIONED.AMOUNT                  224679 non-null int64\n",
      "SEC.DISBURSED.AMOUNT                   224679 non-null int64\n",
      "PRIMARY.INSTAL.AMT                     224679 non-null int64\n",
      "SEC.INSTAL.AMT                         224679 non-null int64\n",
      "NEW.ACCTS.IN.LAST.SIX.MONTHS           224679 non-null int64\n",
      "DELINQUENT.ACCTS.IN.LAST.SIX.MONTHS    224679 non-null int64\n",
      "AVERAGE.ACCT.AGE                       224679 non-null float64\n",
      "CREDIT.HISTORY.LENGTH                  224679 non-null float64\n",
      "NO.OF_INQUIRIES                        224679 non-null int64\n",
      "loan_default                           224679 non-null int64\n",
      "ltv_4th_degree                         224679 non-null float64\n",
      "disbursed_amount_8th_root              224679 non-null float64\n",
      "dtypes: float64(4), int64(33)\n",
      "memory usage: 65.1 MB\n"
     ]
    }
   ],
   "source": [
    "data.info()"
   ]
  },
  {
   "cell_type": "code",
   "execution_count": 29,
   "metadata": {},
   "outputs": [
    {
     "data": {
      "text/plain": [
       "0"
      ]
     },
     "execution_count": 29,
     "metadata": {},
     "output_type": "execute_result"
    }
   ],
   "source": [
    "data.isnull().sum().sum()"
   ]
  },
  {
   "cell_type": "code",
   "execution_count": 30,
   "metadata": {},
   "outputs": [
    {
     "data": {
      "text/plain": [
       "(224679, 37)"
      ]
     },
     "execution_count": 30,
     "metadata": {},
     "output_type": "execute_result"
    }
   ],
   "source": [
    "data.shape"
   ]
  },
  {
   "cell_type": "code",
   "execution_count": 31,
   "metadata": {},
   "outputs": [
    {
     "data": {
      "text/plain": [
       "asset_cost                             45321\n",
       "branch_id                                 82\n",
       "supplier_id                             2943\n",
       "manufacturer_id                            9\n",
       "Current_pincode_ID                      6655\n",
       "Employment.Type                            2\n",
       "State_ID                                  22\n",
       "Employee_code_ID                        3268\n",
       "MobileNo_Avl_Flag                          1\n",
       "Aadhar_flag                                2\n",
       "PAN_flag                                   2\n",
       "VoterID_flag                               2\n",
       "Driving_flag                               2\n",
       "Passport_flag                              2\n",
       "PERFORM_CNS.SCORE                        573\n",
       "PRI.NO.OF.ACCTS                          107\n",
       "PRI.ACTIVE.ACCTS                          40\n",
       "PRI.OVERDUE.ACCTS                         22\n",
       "PRI.CURRENT.BALANCE                    69876\n",
       "PRI.SANCTIONED.AMOUNT                  43649\n",
       "PRI.DISBURSED.AMOUNT                   47099\n",
       "SEC.NO.OF.ACCTS                           37\n",
       "SEC.ACTIVE.ACCTS                          23\n",
       "SEC.OVERDUE.ACCTS                          9\n",
       "SEC.CURRENT.BALANCE                     3188\n",
       "SEC.SANCTIONED.AMOUNT                   2188\n",
       "SEC.DISBURSED.AMOUNT                    2512\n",
       "PRIMARY.INSTAL.AMT                     27563\n",
       "SEC.INSTAL.AMT                          1884\n",
       "NEW.ACCTS.IN.LAST.SIX.MONTHS              26\n",
       "DELINQUENT.ACCTS.IN.LAST.SIX.MONTHS       14\n",
       "AVERAGE.ACCT.AGE                         178\n",
       "CREDIT.HISTORY.LENGTH                    269\n",
       "NO.OF_INQUIRIES                           25\n",
       "loan_default                               2\n",
       "ltv_4th_degree                          6194\n",
       "disbursed_amount_8th_root              23877\n",
       "dtype: int64"
      ]
     },
     "execution_count": 31,
     "metadata": {},
     "output_type": "execute_result"
    }
   ],
   "source": [
    "data.nunique()"
   ]
  },
  {
   "cell_type": "code",
   "execution_count": 32,
   "metadata": {},
   "outputs": [
    {
     "name": "stdout",
     "output_type": "stream",
     "text": [
      "SEC.OVERDUE.ACCTS and SEC.NO.OF.ACCTS = 0.51\n",
      "SEC.OVERDUE.ACCTS and SEC.ACTIVE.ACCTS = 0.53\n",
      "NEW.ACCTS.IN.LAST.SIX.MONTHS and PRI.NO.OF.ACCTS = 0.54\n",
      "disbursed_amount_8th_root and asset_cost = 0.67\n",
      "NEW.ACCTS.IN.LAST.SIX.MONTHS and PRI.ACTIVE.ACCTS = 0.70\n",
      "PRI.ACTIVE.ACCTS and PRI.NO.OF.ACCTS = 0.75\n",
      "CREDIT.HISTORY.LENGTH and AVERAGE.ACCT.AGE = 0.81\n",
      "SEC.ACTIVE.ACCTS and SEC.NO.OF.ACCTS = 0.83\n",
      "VoterID_flag and Aadhar_flag = -0.87\n",
      "SEC.SANCTIONED.AMOUNT and SEC.CURRENT.BALANCE = 0.93\n",
      "SEC.DISBURSED.AMOUNT and SEC.CURRENT.BALANCE = 0.93\n",
      "PRI.DISBURSED.AMOUNT and PRI.SANCTIONED.AMOUNT = 1.00\n",
      "SEC.DISBURSED.AMOUNT and SEC.SANCTIONED.AMOUNT = 1.00\n"
     ]
    }
   ],
   "source": [
    "data_corr = data.corr()\n",
    "threshold = 0.5\n",
    "corr_var_list = []\n",
    "cols = data.columns.tolist()\n",
    "\n",
    "for i in range(1, len(cols)):\n",
    "    for j in range(i):\n",
    "        if((abs(data_corr.iloc[i,j]) > threshold) & (abs(data_corr.iloc[i,j]) < 1)):\n",
    "            corr_var_list.append([data_corr.iloc[i,j], i, j])\n",
    "\n",
    "# Sort the list showing higher ones first \n",
    "s_corr_list = sorted(corr_var_list ,key = lambda x:abs(x[0]))\n",
    "\n",
    "#Print correlations and column names\n",
    "for corr_value, i, j in s_corr_list:\n",
    "    print (\"%s and %s = %.2f\" % (cols[i],cols[j],corr_value))"
   ]
  },
  {
   "cell_type": "code",
   "execution_count": 33,
   "metadata": {},
   "outputs": [],
   "source": [
    "data.drop(['PRI.SANCTIONED.AMOUNT','SEC.SANCTIONED.AMOUNT','SEC.CURRENT.BALANCE','VoterID_flag','AVERAGE.ACCT.AGE'], axis = 1, inplace = True)\n",
    "test.drop(['PRI.SANCTIONED.AMOUNT','SEC.SANCTIONED.AMOUNT','SEC.CURRENT.BALANCE','VoterID_flag','AVERAGE.ACCT.AGE'], axis = 1, inplace = True)"
   ]
  },
  {
   "cell_type": "code",
   "execution_count": 34,
   "metadata": {},
   "outputs": [
    {
     "data": {
      "text/plain": [
       "(224679, 32)"
      ]
     },
     "execution_count": 34,
     "metadata": {},
     "output_type": "execute_result"
    }
   ],
   "source": [
    "data.shape"
   ]
  },
  {
   "cell_type": "code",
   "execution_count": 35,
   "metadata": {},
   "outputs": [],
   "source": [
    "def dispaly_model_parameters(y_test, y_pred):\n",
    "        print(\"Confusion Matrix: \\n\", metrics.confusion_matrix(y_test, y_pred))\n",
    "        print(\"Accuracy: \",metrics.accuracy_score(y_test, y_pred))\n",
    "        print(\"Precision: \",metrics.precision_score(y_test, y_pred))\n",
    "        print(\"Recall: \",metrics.recall_score(y_test, y_pred))\n",
    "        print(\"f1 score: \",metrics.f1_score(y_test, y_pred))\n",
    "        print(\"roc_auc_score: \",metrics.roc_auc_score(y_test, y_pred))\n"
   ]
  },
  {
   "cell_type": "code",
   "execution_count": 36,
   "metadata": {},
   "outputs": [
    {
     "name": "stdout",
     "output_type": "stream",
     "text": [
      "Distribution of the loan_default in the subsample dataset\n",
      "0    0.782552\n",
      "1    0.217448\n",
      "Name: loan_default, dtype: float64\n"
     ]
    },
    {
     "data": {
      "image/png": "[encoded data removed]",
      "text/plain": [
       "<Figure size 432x288 with 1 Axes>"
      ]
     },
     "metadata": {
      "needs_background": "light"
     },
     "output_type": "display_data"
    }
   ],
   "source": [
    "print('Distribution of the loan_default in the subsample dataset')\n",
    "print(data['loan_default'].value_counts()/len(data))\n",
    "\n",
    "sns.countplot('loan_default', data=data)\n",
    "plt.title('Equally Distributed Classes', fontsize=14)\n",
    "plt.show()"
   ]
  },
  {
   "cell_type": "markdown",
   "metadata": {},
   "source": [
    "# OverSampling to resolve Imbalance "
   ]
  },
  {
   "cell_type": "code",
   "execution_count": 37,
   "metadata": {},
   "outputs": [
    {
     "data": {
      "text/html": [
       "<div>\n",
       "<style scoped>\n",
       "    .dataframe tbody tr th:only-of-type {\n",
       "        vertical-align: middle;\n",
       "    }\n",
       "\n",
       "    .dataframe tbody tr th {\n",
       "        vertical-align: top;\n",
       "    }\n",
       "\n",
       "    .dataframe thead th {\n",
       "        text-align: right;\n",
       "    }\n",
       "</style>\n",
       "<table border=\"1\" class=\"dataframe\">\n",
       "  <thead>\n",
       "    <tr style=\"text-align: right;\">\n",
       "      <th></th>\n",
       "      <th>asset_cost</th>\n",
       "      <th>branch_id</th>\n",
       "      <th>supplier_id</th>\n",
       "      <th>manufacturer_id</th>\n",
       "      <th>Current_pincode_ID</th>\n",
       "      <th>Employment.Type</th>\n",
       "      <th>State_ID</th>\n",
       "      <th>Employee_code_ID</th>\n",
       "      <th>MobileNo_Avl_Flag</th>\n",
       "      <th>Aadhar_flag</th>\n",
       "      <th>...</th>\n",
       "      <th>SEC.DISBURSED.AMOUNT</th>\n",
       "      <th>PRIMARY.INSTAL.AMT</th>\n",
       "      <th>SEC.INSTAL.AMT</th>\n",
       "      <th>NEW.ACCTS.IN.LAST.SIX.MONTHS</th>\n",
       "      <th>DELINQUENT.ACCTS.IN.LAST.SIX.MONTHS</th>\n",
       "      <th>CREDIT.HISTORY.LENGTH</th>\n",
       "      <th>NO.OF_INQUIRIES</th>\n",
       "      <th>loan_default</th>\n",
       "      <th>ltv_4th_degree</th>\n",
       "      <th>disbursed_amount_8th_root</th>\n",
       "    </tr>\n",
       "    <tr>\n",
       "      <th>UniqueID</th>\n",
       "      <th></th>\n",
       "      <th></th>\n",
       "      <th></th>\n",
       "      <th></th>\n",
       "      <th></th>\n",
       "      <th></th>\n",
       "      <th></th>\n",
       "      <th></th>\n",
       "      <th></th>\n",
       "      <th></th>\n",
       "      <th></th>\n",
       "      <th></th>\n",
       "      <th></th>\n",
       "      <th></th>\n",
       "      <th></th>\n",
       "      <th></th>\n",
       "      <th></th>\n",
       "      <th></th>\n",
       "      <th></th>\n",
       "      <th></th>\n",
       "      <th></th>\n",
       "    </tr>\n",
       "  </thead>\n",
       "  <tbody>\n",
       "    <tr>\n",
       "      <th>600426</th>\n",
       "      <td>69232</td>\n",
       "      <td>79</td>\n",
       "      <td>22815</td>\n",
       "      <td>86</td>\n",
       "      <td>771</td>\n",
       "      <td>1</td>\n",
       "      <td>18</td>\n",
       "      <td>2109</td>\n",
       "      <td>1</td>\n",
       "      <td>1</td>\n",
       "      <td>...</td>\n",
       "      <td>0</td>\n",
       "      <td>0</td>\n",
       "      <td>0</td>\n",
       "      <td>0</td>\n",
       "      <td>0</td>\n",
       "      <td>0.6</td>\n",
       "      <td>0</td>\n",
       "      <td>1</td>\n",
       "      <td>6.558084e+07</td>\n",
       "      <td>3.964403</td>\n",
       "    </tr>\n",
       "    <tr>\n",
       "      <th>596910</th>\n",
       "      <td>67072</td>\n",
       "      <td>48</td>\n",
       "      <td>24178</td>\n",
       "      <td>45</td>\n",
       "      <td>6355</td>\n",
       "      <td>1</td>\n",
       "      <td>5</td>\n",
       "      <td>128</td>\n",
       "      <td>1</td>\n",
       "      <td>1</td>\n",
       "      <td>...</td>\n",
       "      <td>0</td>\n",
       "      <td>0</td>\n",
       "      <td>0</td>\n",
       "      <td>0</td>\n",
       "      <td>0</td>\n",
       "      <td>0.0</td>\n",
       "      <td>0</td>\n",
       "      <td>1</td>\n",
       "      <td>5.516022e+07</td>\n",
       "      <td>3.924842</td>\n",
       "    </tr>\n",
       "    <tr>\n",
       "      <th>585951</th>\n",
       "      <td>67793</td>\n",
       "      <td>5</td>\n",
       "      <td>23643</td>\n",
       "      <td>86</td>\n",
       "      <td>3344</td>\n",
       "      <td>1</td>\n",
       "      <td>9</td>\n",
       "      <td>571</td>\n",
       "      <td>1</td>\n",
       "      <td>0</td>\n",
       "      <td>...</td>\n",
       "      <td>0</td>\n",
       "      <td>6140</td>\n",
       "      <td>0</td>\n",
       "      <td>0</td>\n",
       "      <td>0</td>\n",
       "      <td>3.4</td>\n",
       "      <td>0</td>\n",
       "      <td>1</td>\n",
       "      <td>4.024789e+07</td>\n",
       "      <td>3.868499</td>\n",
       "    </tr>\n",
       "    <tr>\n",
       "      <th>516312</th>\n",
       "      <td>94640</td>\n",
       "      <td>36</td>\n",
       "      <td>18549</td>\n",
       "      <td>48</td>\n",
       "      <td>6583</td>\n",
       "      <td>0</td>\n",
       "      <td>13</td>\n",
       "      <td>1311</td>\n",
       "      <td>1</td>\n",
       "      <td>0</td>\n",
       "      <td>...</td>\n",
       "      <td>0</td>\n",
       "      <td>0</td>\n",
       "      <td>0</td>\n",
       "      <td>0</td>\n",
       "      <td>0</td>\n",
       "      <td>0.0</td>\n",
       "      <td>0</td>\n",
       "      <td>1</td>\n",
       "      <td>1.865478e+07</td>\n",
       "      <td>3.950341</td>\n",
       "    </tr>\n",
       "    <tr>\n",
       "      <th>533651</th>\n",
       "      <td>71035</td>\n",
       "      <td>74</td>\n",
       "      <td>17113</td>\n",
       "      <td>86</td>\n",
       "      <td>2578</td>\n",
       "      <td>1</td>\n",
       "      <td>4</td>\n",
       "      <td>2980</td>\n",
       "      <td>1</td>\n",
       "      <td>1</td>\n",
       "      <td>...</td>\n",
       "      <td>0</td>\n",
       "      <td>0</td>\n",
       "      <td>0</td>\n",
       "      <td>0</td>\n",
       "      <td>0</td>\n",
       "      <td>0.0</td>\n",
       "      <td>0</td>\n",
       "      <td>0</td>\n",
       "      <td>4.759570e+07</td>\n",
       "      <td>3.941580</td>\n",
       "    </tr>\n",
       "  </tbody>\n",
       "</table>\n",
       "<p>5 rows × 32 columns</p>\n",
       "</div>"
      ],
      "text/plain": [
       "          asset_cost  branch_id  supplier_id  manufacturer_id  \\\n",
       "UniqueID                                                        \n",
       "600426         69232         79        22815               86   \n",
       "596910         67072         48        24178               45   \n",
       "585951         67793          5        23643               86   \n",
       "516312         94640         36        18549               48   \n",
       "533651         71035         74        17113               86   \n",
       "\n",
       "          Current_pincode_ID  Employment.Type  State_ID  Employee_code_ID  \\\n",
       "UniqueID                                                                    \n",
       "600426                   771                1        18              2109   \n",
       "596910                  6355                1         5               128   \n",
       "585951                  3344                1         9               571   \n",
       "516312                  6583                0        13              1311   \n",
       "533651                  2578                1         4              2980   \n",
       "\n",
       "          MobileNo_Avl_Flag  Aadhar_flag  ...  SEC.DISBURSED.AMOUNT  \\\n",
       "UniqueID                                  ...                         \n",
       "600426                    1            1  ...                     0   \n",
       "596910                    1            1  ...                     0   \n",
       "585951                    1            0  ...                     0   \n",
       "516312                    1            0  ...                     0   \n",
       "533651                    1            1  ...                     0   \n",
       "\n",
       "          PRIMARY.INSTAL.AMT  SEC.INSTAL.AMT  NEW.ACCTS.IN.LAST.SIX.MONTHS  \\\n",
       "UniqueID                                                                     \n",
       "600426                     0               0                             0   \n",
       "596910                     0               0                             0   \n",
       "585951                  6140               0                             0   \n",
       "516312                     0               0                             0   \n",
       "533651                     0               0                             0   \n",
       "\n",
       "          DELINQUENT.ACCTS.IN.LAST.SIX.MONTHS  CREDIT.HISTORY.LENGTH  \\\n",
       "UniqueID                                                               \n",
       "600426                                      0                    0.6   \n",
       "596910                                      0                    0.0   \n",
       "585951                                      0                    3.4   \n",
       "516312                                      0                    0.0   \n",
       "533651                                      0                    0.0   \n",
       "\n",
       "          NO.OF_INQUIRIES  loan_default  ltv_4th_degree  \\\n",
       "UniqueID                                                  \n",
       "600426                  0             1    6.558084e+07   \n",
       "596910                  0             1    5.516022e+07   \n",
       "585951                  0             1    4.024789e+07   \n",
       "516312                  0             1    1.865478e+07   \n",
       "533651                  0             0    4.759570e+07   \n",
       "\n",
       "          disbursed_amount_8th_root  \n",
       "UniqueID                             \n",
       "600426                     3.964403  \n",
       "596910                     3.924842  \n",
       "585951                     3.868499  \n",
       "516312                     3.950341  \n",
       "533651                     3.941580  \n",
       "\n",
       "[5 rows x 32 columns]"
      ]
     },
     "execution_count": 37,
     "metadata": {},
     "output_type": "execute_result"
    }
   ],
   "source": [
    "data = data.sample(frac=1)\n",
    "loan_default_yes = data.loc[data['loan_default'] == 1]\n",
    "loan_default_no = data.loc[data['loan_default'] == 0]\n",
    "\n",
    "normal_distributed_df = pd.concat([loan_default_yes, loan_default_yes,loan_default_yes,loan_default_no])\n",
    "\n",
    "# Shuffle dataframe rows\n",
    "new_data = normal_distributed_df.sample(frac=1, random_state=42)\n",
    "\n",
    "new_data.head()"
   ]
  },
  {
   "cell_type": "code",
   "execution_count": 38,
   "metadata": {},
   "outputs": [
    {
     "name": "stdout",
     "output_type": "stream",
     "text": [
      "Distribution of the loan_default in the subsample dataset\n",
      "0    0.545372\n",
      "1    0.454628\n",
      "Name: loan_default, dtype: float64\n"
     ]
    },
    {
     "data": {
      "image/png": "[encoded data removed]",
      "text/plain": [
       "<Figure size 432x288 with 1 Axes>"
      ]
     },
     "metadata": {
      "needs_background": "light"
     },
     "output_type": "display_data"
    }
   ],
   "source": [
    "print('Distribution of the loan_default in the subsample dataset')\n",
    "print(new_data['loan_default'].value_counts()/len(new_data))\n",
    "\n",
    "sns.countplot('loan_default', data=new_data)\n",
    "plt.title('Equally Distributed Classes', fontsize=14)\n",
    "plt.show()"
   ]
  },
  {
   "cell_type": "code",
   "execution_count": 39,
   "metadata": {},
   "outputs": [
    {
     "data": {
      "text/plain": [
       "(322391, 32)"
      ]
     },
     "execution_count": 39,
     "metadata": {},
     "output_type": "execute_result"
    }
   ],
   "source": [
    "new_data.shape"
   ]
  },
  {
   "cell_type": "code",
   "execution_count": 40,
   "metadata": {},
   "outputs": [],
   "source": [
    "X = new_data.drop('loan_default', axis = 1)\n",
    "y = new_data['loan_default'].copy()\n",
    "\n",
    "X_train, X_test, y_train, y_test = train_test_split(X, y, test_size = 0.3, random_state = 0)\n"
   ]
  },
  {
   "cell_type": "markdown",
   "metadata": {},
   "source": [
    "# Chi-Squared"
   ]
  },
  {
   "cell_type": "code",
   "execution_count": 41,
   "metadata": {},
   "outputs": [
    {
     "data": {
      "text/html": [
       "<div>\n",
       "<style scoped>\n",
       "    .dataframe tbody tr th:only-of-type {\n",
       "        vertical-align: middle;\n",
       "    }\n",
       "\n",
       "    .dataframe tbody tr th {\n",
       "        vertical-align: top;\n",
       "    }\n",
       "\n",
       "    .dataframe thead th {\n",
       "        text-align: right;\n",
       "    }\n",
       "</style>\n",
       "<table border=\"1\" class=\"dataframe\">\n",
       "  <thead>\n",
       "    <tr style=\"text-align: right;\">\n",
       "      <th></th>\n",
       "      <th>Feature</th>\n",
       "      <th>Scores</th>\n",
       "    </tr>\n",
       "  </thead>\n",
       "  <tbody>\n",
       "    <tr>\n",
       "      <th>29</th>\n",
       "      <td>ltv_4th_degree</td>\n",
       "      <td>3180.579404</td>\n",
       "    </tr>\n",
       "    <tr>\n",
       "      <th>30</th>\n",
       "      <td>disbursed_amount_8th_root</td>\n",
       "      <td>2589.791291</td>\n",
       "    </tr>\n",
       "    <tr>\n",
       "      <th>13</th>\n",
       "      <td>PERFORM_CNS.SCORE</td>\n",
       "      <td>1278.386252</td>\n",
       "    </tr>\n",
       "    <tr>\n",
       "      <th>6</th>\n",
       "      <td>State_ID</td>\n",
       "      <td>857.953927</td>\n",
       "    </tr>\n",
       "    <tr>\n",
       "      <th>27</th>\n",
       "      <td>CREDIT.HISTORY.LENGTH</td>\n",
       "      <td>729.805374</td>\n",
       "    </tr>\n",
       "    <tr>\n",
       "      <th>15</th>\n",
       "      <td>PRI.ACTIVE.ACCTS</td>\n",
       "      <td>682.783752</td>\n",
       "    </tr>\n",
       "    <tr>\n",
       "      <th>9</th>\n",
       "      <td>Aadhar_flag</td>\n",
       "      <td>608.702185</td>\n",
       "    </tr>\n",
       "    <tr>\n",
       "      <th>28</th>\n",
       "      <td>NO.OF_INQUIRIES</td>\n",
       "      <td>576.708075</td>\n",
       "    </tr>\n",
       "    <tr>\n",
       "      <th>16</th>\n",
       "      <td>PRI.OVERDUE.ACCTS</td>\n",
       "      <td>527.365325</td>\n",
       "    </tr>\n",
       "    <tr>\n",
       "      <th>14</th>\n",
       "      <td>PRI.NO.OF.ACCTS</td>\n",
       "      <td>441.818370</td>\n",
       "    </tr>\n",
       "    <tr>\n",
       "      <th>26</th>\n",
       "      <td>DELINQUENT.ACCTS.IN.LAST.SIX.MONTHS</td>\n",
       "      <td>400.087166</td>\n",
       "    </tr>\n",
       "    <tr>\n",
       "      <th>25</th>\n",
       "      <td>NEW.ACCTS.IN.LAST.SIX.MONTHS</td>\n",
       "      <td>346.939808</td>\n",
       "    </tr>\n",
       "    <tr>\n",
       "      <th>1</th>\n",
       "      <td>branch_id</td>\n",
       "      <td>322.955787</td>\n",
       "    </tr>\n",
       "    <tr>\n",
       "      <th>17</th>\n",
       "      <td>PRI.CURRENT.BALANCE</td>\n",
       "      <td>315.668112</td>\n",
       "    </tr>\n",
       "    <tr>\n",
       "      <th>4</th>\n",
       "      <td>Current_pincode_ID</td>\n",
       "      <td>297.183203</td>\n",
       "    </tr>\n",
       "    <tr>\n",
       "      <th>2</th>\n",
       "      <td>supplier_id</td>\n",
       "      <td>283.175360</td>\n",
       "    </tr>\n",
       "    <tr>\n",
       "      <th>5</th>\n",
       "      <td>Employment.Type</td>\n",
       "      <td>256.153958</td>\n",
       "    </tr>\n",
       "    <tr>\n",
       "      <th>3</th>\n",
       "      <td>manufacturer_id</td>\n",
       "      <td>206.119014</td>\n",
       "    </tr>\n",
       "    <tr>\n",
       "      <th>7</th>\n",
       "      <td>Employee_code_ID</td>\n",
       "      <td>162.953519</td>\n",
       "    </tr>\n",
       "    <tr>\n",
       "      <th>0</th>\n",
       "      <td>asset_cost</td>\n",
       "      <td>89.666934</td>\n",
       "    </tr>\n",
       "    <tr>\n",
       "      <th>23</th>\n",
       "      <td>PRIMARY.INSTAL.AMT</td>\n",
       "      <td>37.541669</td>\n",
       "    </tr>\n",
       "    <tr>\n",
       "      <th>19</th>\n",
       "      <td>SEC.NO.OF.ACCTS</td>\n",
       "      <td>26.266749</td>\n",
       "    </tr>\n",
       "    <tr>\n",
       "      <th>12</th>\n",
       "      <td>Passport_flag</td>\n",
       "      <td>21.101205</td>\n",
       "    </tr>\n",
       "    <tr>\n",
       "      <th>22</th>\n",
       "      <td>SEC.DISBURSED.AMOUNT</td>\n",
       "      <td>16.567342</td>\n",
       "    </tr>\n",
       "    <tr>\n",
       "      <th>18</th>\n",
       "      <td>PRI.DISBURSED.AMOUNT</td>\n",
       "      <td>13.128880</td>\n",
       "    </tr>\n",
       "    <tr>\n",
       "      <th>20</th>\n",
       "      <td>SEC.ACTIVE.ACCTS</td>\n",
       "      <td>9.153573</td>\n",
       "    </tr>\n",
       "    <tr>\n",
       "      <th>11</th>\n",
       "      <td>Driving_flag</td>\n",
       "      <td>8.709739</td>\n",
       "    </tr>\n",
       "    <tr>\n",
       "      <th>10</th>\n",
       "      <td>PAN_flag</td>\n",
       "      <td>1.233306</td>\n",
       "    </tr>\n",
       "    <tr>\n",
       "      <th>21</th>\n",
       "      <td>SEC.OVERDUE.ACCTS</td>\n",
       "      <td>0.612674</td>\n",
       "    </tr>\n",
       "    <tr>\n",
       "      <th>24</th>\n",
       "      <td>SEC.INSTAL.AMT</td>\n",
       "      <td>0.471377</td>\n",
       "    </tr>\n",
       "    <tr>\n",
       "      <th>8</th>\n",
       "      <td>MobileNo_Avl_Flag</td>\n",
       "      <td>NaN</td>\n",
       "    </tr>\n",
       "  </tbody>\n",
       "</table>\n",
       "</div>"
      ],
      "text/plain": [
       "                                Feature       Scores\n",
       "29                       ltv_4th_degree  3180.579404\n",
       "30            disbursed_amount_8th_root  2589.791291\n",
       "13                    PERFORM_CNS.SCORE  1278.386252\n",
       "6                              State_ID   857.953927\n",
       "27                CREDIT.HISTORY.LENGTH   729.805374\n",
       "15                     PRI.ACTIVE.ACCTS   682.783752\n",
       "9                           Aadhar_flag   608.702185\n",
       "28                      NO.OF_INQUIRIES   576.708075\n",
       "16                    PRI.OVERDUE.ACCTS   527.365325\n",
       "14                      PRI.NO.OF.ACCTS   441.818370\n",
       "26  DELINQUENT.ACCTS.IN.LAST.SIX.MONTHS   400.087166\n",
       "25         NEW.ACCTS.IN.LAST.SIX.MONTHS   346.939808\n",
       "1                             branch_id   322.955787\n",
       "17                  PRI.CURRENT.BALANCE   315.668112\n",
       "4                    Current_pincode_ID   297.183203\n",
       "2                           supplier_id   283.175360\n",
       "5                       Employment.Type   256.153958\n",
       "3                       manufacturer_id   206.119014\n",
       "7                      Employee_code_ID   162.953519\n",
       "0                            asset_cost    89.666934\n",
       "23                   PRIMARY.INSTAL.AMT    37.541669\n",
       "19                      SEC.NO.OF.ACCTS    26.266749\n",
       "12                        Passport_flag    21.101205\n",
       "22                 SEC.DISBURSED.AMOUNT    16.567342\n",
       "18                 PRI.DISBURSED.AMOUNT    13.128880\n",
       "20                     SEC.ACTIVE.ACCTS     9.153573\n",
       "11                         Driving_flag     8.709739\n",
       "10                             PAN_flag     1.233306\n",
       "21                    SEC.OVERDUE.ACCTS     0.612674\n",
       "24                       SEC.INSTAL.AMT     0.471377\n",
       "8                     MobileNo_Avl_Flag          NaN"
      ]
     },
     "execution_count": 41,
     "metadata": {},
     "output_type": "execute_result"
    }
   ],
   "source": [
    "# Select two features with highest chi-squared statistics\n",
    "\n",
    "select_feature = SelectKBest(f_classif, k=12).fit(X_train, y_train)\n",
    "selected_features_df = pd.DataFrame({'Feature':list(X_train.columns),\n",
    "                                     'Scores':select_feature.scores_})\n",
    "selected_features_df.sort_values(by='Scores', ascending=False)"
   ]
  },
  {
   "cell_type": "code",
   "execution_count": 42,
   "metadata": {},
   "outputs": [
    {
     "name": "stdout",
     "output_type": "stream",
     "text": [
      "<class 'pandas.core.frame.DataFrame'>\n"
     ]
    }
   ],
   "source": [
    "print(type(test))"
   ]
  },
  {
   "cell_type": "code",
   "execution_count": 43,
   "metadata": {},
   "outputs": [],
   "source": [
    "X_train = select_feature.transform(X_train)\n",
    "X_test = select_feature.transform(X_test)\n",
    "test = select_feature.transform(test)"
   ]
  },
  {
   "cell_type": "code",
   "execution_count": 44,
   "metadata": {},
   "outputs": [
    {
     "name": "stdout",
     "output_type": "stream",
     "text": [
      "<class 'numpy.ndarray'>\n"
     ]
    }
   ],
   "source": [
    "print(type(test))"
   ]
  },
  {
   "cell_type": "code",
   "execution_count": 45,
   "metadata": {},
   "outputs": [
    {
     "data": {
      "text/plain": [
       "(96718, 12)"
      ]
     },
     "execution_count": 45,
     "metadata": {},
     "output_type": "execute_result"
    }
   ],
   "source": [
    "X_test.shape"
   ]
  },
  {
   "cell_type": "code",
   "execution_count": 46,
   "metadata": {},
   "outputs": [
    {
     "data": {
      "text/plain": [
       "(225673, 12)"
      ]
     },
     "execution_count": 46,
     "metadata": {},
     "output_type": "execute_result"
    }
   ],
   "source": [
    "X_train.shape"
   ]
  },
  {
   "cell_type": "markdown",
   "metadata": {},
   "source": [
    "# Logistic Regression"
   ]
  },
  {
   "cell_type": "code",
   "execution_count": 47,
   "metadata": {},
   "outputs": [
    {
     "name": "stdout",
     "output_type": "stream",
     "text": [
      "Confusion Matrix: \n",
      " [[52796     0]\n",
      " [43922     0]]\n",
      "Accuracy:  0.5458756384540623\n",
      "Precision:  0.0\n",
      "Recall:  0.0\n",
      "f1 score:  0.0\n",
      "roc_auc_score:  0.5\n"
     ]
    }
   ],
   "source": [
    "# parameters for grid search\n",
    "parameters = {'C':[0.1,0.5,1,5]}\n",
    "# Code starts here\n",
    "lr = LogisticRegression()\n",
    "grid = GridSearchCV(estimator = lr, param_grid = parameters)\n",
    "grid.fit(X_train, y_train)\n",
    "y_pred = grid.predict(X_test)\n",
    "dispaly_model_parameters(y_test, y_pred)"
   ]
  },
  {
   "cell_type": "markdown",
   "metadata": {},
   "source": [
    "#  Decision Tree"
   ]
  },
  {
   "cell_type": "code",
   "execution_count": 48,
   "metadata": {},
   "outputs": [
    {
     "name": "stdout",
     "output_type": "stream",
     "text": [
      "Confusion Matrix: \n",
      " [[32010 20786]\n",
      " [18837 25085]]\n",
      "Accuracy:  0.5903244483963688\n",
      "Precision:  0.5468596716879945\n",
      "Recall:  0.5711260871545012\n",
      "f1 score:  0.5587295223458398\n",
      "roc_auc_score:  0.5887110093322321\n"
     ]
    }
   ],
   "source": [
    "parameters={'criterion':['gini','entropy'],'max_depth': [2,3,4,5]}\n",
    "clf_tree=DecisionTreeClassifier()\n",
    "clf=GridSearchCV(clf_tree,parameters)\n",
    "clf.fit(X_train,y_train)\n",
    "y_pred=clf.predict(X_test)\n",
    "dispaly_model_parameters(y_test, y_pred)"
   ]
  },
  {
   "cell_type": "code",
   "execution_count": 49,
   "metadata": {},
   "outputs": [
    {
     "name": "stdout",
     "output_type": "stream",
     "text": [
      "Confusion Matrix: \n",
      " [[43488  9308]\n",
      " [ 3260 40662]]\n",
      "Accuracy:  0.8700552120598027\n",
      "Precision:  0.8137282369421653\n",
      "Recall:  0.9257775146851236\n",
      "f1 score:  0.8661440804328377\n",
      "roc_auc_score:  0.8747381398715411\n"
     ]
    }
   ],
   "source": [
    "rf = RandomForestClassifier(n_estimators=250, random_state = 33)\n",
    "rf.fit(X_train,y_train)\n",
    "y_pred=rf.predict(X_test)\n",
    "dispaly_model_parameters(y_test, y_pred)"
   ]
  },
  {
   "cell_type": "markdown",
   "metadata": {},
   "source": [
    "ada_clf = AdaBoostClassifier(DecisionTreeClassifier(max_depth = 2),n_estimators = 200, algorithm = 'SAMME.R', learning_rate = 0.5, random_state = 42)\n",
    "ada_clf.fit(X_train,y_train)\n",
    "y_pred = ada_clf.predict(X_test)\n",
    "dispaly_model_parameters(y_test, y_pred)"
   ]
  },
  {
   "cell_type": "raw",
   "metadata": {},
   "source": [
    "## As the Random Forest model is performing well..selecting randome foresr model"
   ]
  },
  {
   "cell_type": "code",
   "execution_count": null,
   "metadata": {},
   "outputs": [],
   "source": [
    "model = rf"
   ]
  },
  {
   "cell_type": "code",
   "execution_count": 51,
   "metadata": {},
   "outputs": [],
   "source": [
    "test_pred = model.predict(test)\n",
    "test_pred = pd.DataFrame(test_pred)"
   ]
  },
  {
   "cell_type": "code",
   "execution_count": 58,
   "metadata": {},
   "outputs": [
    {
     "data": {
      "text/html": [
       "<div>\n",
       "<style scoped>\n",
       "    .dataframe tbody tr th:only-of-type {\n",
       "        vertical-align: middle;\n",
       "    }\n",
       "\n",
       "    .dataframe tbody tr th {\n",
       "        vertical-align: top;\n",
       "    }\n",
       "\n",
       "    .dataframe thead th {\n",
       "        text-align: right;\n",
       "    }\n",
       "</style>\n",
       "<table border=\"1\" class=\"dataframe\">\n",
       "  <thead>\n",
       "    <tr style=\"text-align: right;\">\n",
       "      <th></th>\n",
       "      <th>UniqueID</th>\n",
       "      <th>loan_default</th>\n",
       "    </tr>\n",
       "  </thead>\n",
       "  <tbody>\n",
       "    <tr>\n",
       "      <th>0</th>\n",
       "      <td>655269</td>\n",
       "      <td>0.0</td>\n",
       "    </tr>\n",
       "    <tr>\n",
       "      <th>1</th>\n",
       "      <td>723482</td>\n",
       "      <td>0.0</td>\n",
       "    </tr>\n",
       "    <tr>\n",
       "      <th>2</th>\n",
       "      <td>758529</td>\n",
       "      <td>0.0</td>\n",
       "    </tr>\n",
       "    <tr>\n",
       "      <th>3</th>\n",
       "      <td>763449</td>\n",
       "      <td>1.0</td>\n",
       "    </tr>\n",
       "    <tr>\n",
       "      <th>4</th>\n",
       "      <td>708663</td>\n",
       "      <td>1.0</td>\n",
       "    </tr>\n",
       "  </tbody>\n",
       "</table>\n",
       "</div>"
      ],
      "text/plain": [
       "   UniqueID  loan_default\n",
       "0    655269           0.0\n",
       "1    723482           0.0\n",
       "2    758529           0.0\n",
       "3    763449           1.0\n",
       "4    708663           1.0"
      ]
     },
     "execution_count": 58,
     "metadata": {},
     "output_type": "execute_result"
    }
   ],
   "source": [
    "subm = pd.read_csv('./data_AV_LTFS DataScience FinHack/sample_submission.csv')\n",
    "subm[\"loan_default\"] = test_pred\n",
    "subm[\"loan_default\"] = subm[\"loan_default\"].astype('int', errors = 'ignore')\n",
    "subm.to_csv(\"submission.csv\", index=False)\n",
    "subm.head()"
   ]
  },
  {
   "cell_type": "code",
   "execution_count": null,
   "metadata": {},
   "outputs": [],
   "source": []
  }
 ],
 "metadata": {
  "kernelspec": {
   "display_name": "Python 3",
   "language": "python",
   "name": "python3"
  },
  "language_info": {
   "codemirror_mode": {
    "name": "ipython",
    "version": 3
   },
   "file_extension": ".py",
   "mimetype": "text/x-python",
   "name": "python",
   "nbconvert_exporter": "python",
   "pygments_lexer": "ipython3",
   "version": "3.7.3"
  }
 },
 "nbformat": 4,
 "nbformat_minor": 2
}
